{
 "cells": [
  {
   "cell_type": "markdown",
   "metadata": {},
   "source": [
    "# NumPy : Fundamentals\n",
    "---"
   ]
  },
  {
   "cell_type": "markdown",
   "metadata": {},
   "source": [
    "### *In this notebook we have:*\n",
    "1. [NumPy Introduction](#1.-numpy-introduction)\n",
    "2. [Importing and Aliasing numpy](#2.-Importing-and-Aliasing-numpy)\n",
    "3. [Creating a numpy array](#3.-Creating-a-numpy-array)\n",
    "4. [Using Ndim Attribute](#4.-ndim-attribute)\n",
    "5. [Indexing and Slicing](#5.-indexing-and-slicing)\n",
    "6. [Creating Arrays with Zeros and Ones](#6.-using-zeros()-function-of-numpy)\n",
    "---"
   ]
  },
  {
   "cell_type": "markdown",
   "metadata": {},
   "source": [
    "## 1. Numpy Introduction\n",
    "* NumPy is a library for scientific computing in Python.\n",
    "* Provides multi-dimensional array object.\n",
    "* Full form : 'Numerical Python'.\n",
    "\n",
    "* Why NumPy?\n",
    "    * Fast to process.\n",
    "\n",
    "* Install numpy using `pip install numpy` in command prompt."
   ]
  },
  {
   "cell_type": "markdown",
   "metadata": {},
   "source": [
    "---\n",
    "## 2. Importing and Aliasing numpy\n"
   ]
  },
  {
   "cell_type": "code",
   "execution_count": 2,
   "metadata": {},
   "outputs": [
    {
     "name": "stdout",
     "output_type": "stream",
     "text": [
      "numpy imported successfully!!\n"
     ]
    }
   ],
   "source": [
    "import numpy as np\n",
    "print(\"numpy imported successfully!!\")"
   ]
  },
  {
   "cell_type": "markdown",
   "metadata": {},
   "source": [
    "---\n",
    "## 3. Creating a numpy array\n",
    "* Simply call the `array(value)` function.\n",
    "* It returns ndarray object.\n",
    "* List, tuple etc.. can be passed as the argument to the funtion."
   ]
  },
  {
   "cell_type": "code",
   "execution_count": 4,
   "metadata": {},
   "outputs": [
    {
     "name": "stdout",
     "output_type": "stream",
     "text": [
      "[10 20 30 40 50 60]\n",
      "<class 'numpy.ndarray'>\n"
     ]
    }
   ],
   "source": [
    "value = [10,20,30,40,50,60]\n",
    "array = np.array(value) #creating an array from the list\n",
    "\n",
    "print(array)\n",
    "\n",
    "print(type(array)) # returns as the ndarray class"
   ]
  },
  {
   "cell_type": "markdown",
   "metadata": {},
   "source": [
    "---\n",
    "## 4. ndim attribute\n",
    "* used to know the dimensions of the array."
   ]
  },
  {
   "cell_type": "code",
   "execution_count": 8,
   "metadata": {},
   "outputs": [
    {
     "name": "stdout",
     "output_type": "stream",
     "text": [
      "Here is the type of the array: <class 'numpy.ndarray'>\n",
      "Dimensions:  0\n"
     ]
    }
   ],
   "source": [
    "value = 2\n",
    "zero_d = np.array(value)\n",
    "print(\"Here is the type of the array:\",type(zero_d))\n",
    "print(\"Dimensions: \",zero_d.ndim)\n"
   ]
  },
  {
   "cell_type": "code",
   "execution_count": 9,
   "metadata": {},
   "outputs": [
    {
     "name": "stdout",
     "output_type": "stream",
     "text": [
      "Array:  [10 20 30 40 50 60]\n",
      "Dimensions:  1\n"
     ]
    }
   ],
   "source": [
    "value = [10,20,30,40,50,60]\n",
    "one_d = np.array(value) \n",
    "print(\"Array: \", one_d)\n",
    "print(\"Dimensions: \", one_d.ndim)"
   ]
  },
  {
   "cell_type": "code",
   "execution_count": 13,
   "metadata": {},
   "outputs": [
    {
     "name": "stdout",
     "output_type": "stream",
     "text": [
      "Array: \n",
      " [[10 20 30]\n",
      " [40 50 60]\n",
      " [70 80 90]]\n",
      "Dimensions:  2\n"
     ]
    }
   ],
   "source": [
    "values = [[10, 20, 30], [40, 50, 60], [70, 80, 90]]\n",
    "two_d = np.array(values)\n",
    "print(\"Array: \\n\",two_d)\n",
    "print(\"Dimensions: \", two_d.ndim)"
   ]
  },
  {
   "cell_type": "markdown",
   "metadata": {},
   "source": [
    "---\n",
    "## 5. Indexing and Slicing"
   ]
  },
  {
   "cell_type": "code",
   "execution_count": null,
   "metadata": {},
   "outputs": [
    {
     "name": "stdout",
     "output_type": "stream",
     "text": [
      "[[10 20 30]\n",
      " [40 50 60]\n",
      " [70 80 90]]\n",
      "10\n",
      "20\n",
      "30\n"
     ]
    }
   ],
   "source": [
    "matrix = np.array([[10, 20, 30], [40, 50, 60], [70, 80, 90]])\n",
    "print(matrix)\n",
    "print(matrix[0,0]) #accessing array values through index\n",
    "print(matrix[0,1])\n",
    "print(matrix[0,2])\n"
   ]
  },
  {
   "cell_type": "code",
   "execution_count": null,
   "metadata": {},
   "outputs": [
    {
     "name": "stdout",
     "output_type": "stream",
     "text": [
      "[10 20 30 40 50]\n",
      "[30 40 50]\n"
     ]
    }
   ],
   "source": [
    "details = [10, 20, 30, 40, 50] \n",
    "sales = np.array(details) \n",
    "print(sales)\n",
    "print(sales[2:]) #slicing"
   ]
  },
  {
   "cell_type": "markdown",
   "metadata": {},
   "source": [
    "---\n",
    "## 6. Using zeros() function of NumPy  "
   ]
  },
  {
   "cell_type": "code",
   "execution_count": null,
   "metadata": {},
   "outputs": [
    {
     "name": "stdout",
     "output_type": "stream",
     "text": [
      "[0. 0. 0. 0. 0.]\n",
      "<class 'numpy.ndarray'>\n"
     ]
    }
   ],
   "source": [
    "# np.zeros(col)\n",
    "sales = np.zeros((5)) #creates 5 columns filled with zeros\n",
    "print(sales)\n",
    "print(type(sales))"
   ]
  },
  {
   "cell_type": "code",
   "execution_count": null,
   "metadata": {},
   "outputs": [
    {
     "name": "stdout",
     "output_type": "stream",
     "text": [
      "[[0. 0. 0.]\n",
      " [0. 0. 0.]\n",
      " [0. 0. 0.]\n",
      " [0. 0. 0.]\n",
      " [0. 0. 0.]]\n",
      "<class 'numpy.ndarray'>\n"
     ]
    }
   ],
   "source": [
    "# np.zeros(row,col)\n",
    "sales = np.zeros((5,3)) #creates 5 rows and 3 columns filled with zeros\n",
    "print(sales)\n",
    "print(type(sales))"
   ]
  },
  {
   "cell_type": "markdown",
   "metadata": {},
   "source": [
    "---\n",
    "## 7. Using ones() function of numpy"
   ]
  },
  {
   "cell_type": "code",
   "execution_count": 25,
   "metadata": {},
   "outputs": [
    {
     "name": "stdout",
     "output_type": "stream",
     "text": [
      "[1. 1. 1. 1. 1.]\n",
      "<class 'numpy.ndarray'>\n"
     ]
    }
   ],
   "source": [
    "sales = np.ones(5)\n",
    "print(sales)\n",
    "print(type(sales))"
   ]
  },
  {
   "cell_type": "code",
   "execution_count": 27,
   "metadata": {},
   "outputs": [
    {
     "name": "stdout",
     "output_type": "stream",
     "text": [
      "[[1. 1. 1.]\n",
      " [1. 1. 1.]\n",
      " [1. 1. 1.]\n",
      " [1. 1. 1.]\n",
      " [1. 1. 1.]]\n",
      "<class 'numpy.ndarray'>\n"
     ]
    }
   ],
   "source": [
    "sales = np.ones((5,3)) \n",
    "print(sales)\n",
    "print(type(sales))"
   ]
  },
  {
   "cell_type": "markdown",
   "metadata": {},
   "source": [
    "---"
   ]
  }
 ],
 "metadata": {
  "kernelspec": {
   "display_name": "venv",
   "language": "python",
   "name": "python3"
  },
  "language_info": {
   "codemirror_mode": {
    "name": "ipython",
    "version": 3
   },
   "file_extension": ".py",
   "mimetype": "text/x-python",
   "name": "python",
   "nbconvert_exporter": "python",
   "pygments_lexer": "ipython3",
   "version": "3.12.7"
  }
 },
 "nbformat": 4,
 "nbformat_minor": 2
}
