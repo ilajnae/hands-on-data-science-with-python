{
 "cells": [
  {
   "cell_type": "markdown",
   "metadata": {},
   "source": [
    "# Methods in NumPy (only Imp)\n",
    "---"
   ]
  },
  {
   "cell_type": "markdown",
   "metadata": {},
   "source": [
    "### *In this notebook we have:*\n",
    "1. [min() method](#1.-min()-method)  \n",
    "2. [max() method](#2.-max()-method)  \n",
    "3. [sum() method](#3.-sum()-method)  \n",
    "4. [reshape() method](#4.-reshape()-method)  \n",
    "5. [count_nonzero(p) function](#5.-count_nonzero(p)-function)  \n",
    "6. [sort() method](#6.-sort()-method)  \n",
    "7. [flatten() method](#7.-flatten()-method)  \n",
    "8. [diagonal() method](#8.-diagonal()-method)  \n",
    "9. [trace() method](#9.-trace()-method)  \n",
    "10. [add(), subtract() functions](#10.-add()-sub()-different-matrices)  \n",
    "11. [Performing arithmetic operations on different values](#11.-performing-arithmetic-operations-on-array-values)  "
   ]
  },
  {
   "cell_type": "markdown",
   "metadata": {},
   "source": [
    "---\n",
    "## 1. min() method\n",
    "* method requires array object to invoke it.\n",
    "* `min()` method checks for the minimum value in the array"
   ]
  },
  {
   "cell_type": "code",
   "execution_count": 3,
   "metadata": {},
   "outputs": [],
   "source": [
    "import numpy as np"
   ]
  },
  {
   "cell_type": "code",
   "execution_count": 4,
   "metadata": {},
   "outputs": [
    {
     "name": "stdout",
     "output_type": "stream",
     "text": [
      "[[10 20 30]\n",
      " [40 50 60]]\n",
      "Minimum value: 10\n"
     ]
    }
   ],
   "source": [
    "values = [[10, 20, 30], [40, 50, 60]]\n",
    "sales = np.array(values) \n",
    "print(sales)\n",
    "print(\"Minimum value:\" ,sales.min())"
   ]
  },
  {
   "cell_type": "markdown",
   "metadata": {},
   "source": [
    "---\n",
    "## 2. max() method\n",
    "* method requires array object to invoke it.\n",
    "* `max()` method checks for the maximum value in the array"
   ]
  },
  {
   "cell_type": "code",
   "execution_count": 5,
   "metadata": {},
   "outputs": [
    {
     "name": "stdout",
     "output_type": "stream",
     "text": [
      "[[10 20 30]\n",
      " [40 50 60]]\n",
      "Maximum value: 60\n"
     ]
    }
   ],
   "source": [
    "values = [[10, 20, 30], [40, 50, 60]]\n",
    "sales = np.array(values) \n",
    "print(sales)\n",
    "print(\"Maximum value:\" ,sales.max())"
   ]
  },
  {
   "cell_type": "markdown",
   "metadata": {},
   "source": [
    "---\n",
    "## 3. sum() method\n",
    "* method requires array object to invoke it.\n",
    "* `sum()` method returns the sum of the values in the array."
   ]
  },
  {
   "cell_type": "code",
   "execution_count": 6,
   "metadata": {},
   "outputs": [
    {
     "name": "stdout",
     "output_type": "stream",
     "text": [
      "[[10 20 30]\n",
      " [40 50 60]]\n",
      "Sum of all the values: 210\n"
     ]
    }
   ],
   "source": [
    "values = [[10, 20, 30], [40, 50, 60]]\n",
    "sales = np.array(values) \n",
    "print(sales)\n",
    "print(\"Sum of all the values:\" ,sales.sum())"
   ]
  },
  {
   "cell_type": "markdown",
   "metadata": {},
   "source": [
    "---\n",
    "## 4. reshape() method\n",
    "* method requires array object to invoke it.\n",
    "* `reshape()` method is used to change the **shape** of the array."
   ]
  },
  {
   "cell_type": "code",
   "execution_count": 7,
   "metadata": {},
   "outputs": [
    {
     "name": "stdout",
     "output_type": "stream",
     "text": [
      "[[10 20 30]\n",
      " [40 50 60]]\n",
      "(2, 3)\n",
      "\n",
      "[[10 20]\n",
      " [30 40]\n",
      " [50 60]]\n"
     ]
    }
   ],
   "source": [
    "values = [[10, 20, 30], [40, 50, 60]]\n",
    "sales = np.array(values) \n",
    "print(sales)\n",
    "print(sales.shape)\n",
    "print()\n",
    "print(sales.reshape(3,2))\n"
   ]
  },
  {
   "cell_type": "code",
   "execution_count": 8,
   "metadata": {},
   "outputs": [
    {
     "name": "stdout",
     "output_type": "stream",
     "text": [
      "[[10 20 30]\n",
      " [40 50 60]]\n",
      "(2, 3)\n",
      "\n",
      "[[10 20 30 40 50 60]]\n"
     ]
    }
   ],
   "source": [
    "values = [[10, 20, 30], [40, 50, 60]]\n",
    "sales = np.array(values) \n",
    "print(sales)\n",
    "print(sales.shape)\n",
    "print()\n",
    "print(sales.reshape(1,6))\n"
   ]
  },
  {
   "cell_type": "code",
   "execution_count": 9,
   "metadata": {},
   "outputs": [
    {
     "name": "stdout",
     "output_type": "stream",
     "text": [
      "[[10 20 30]\n",
      " [40 50 60]]\n",
      "(2, 3)\n",
      "\n",
      "[[10]\n",
      " [20]\n",
      " [30]\n",
      " [40]\n",
      " [50]\n",
      " [60]]\n"
     ]
    }
   ],
   "source": [
    "values = [[10, 20, 30], [40, 50, 60]]\n",
    "sales = np.array(values) \n",
    "print(sales)\n",
    "print(sales.shape)\n",
    "print()\n",
    "print(sales.reshape(6,1))"
   ]
  },
  {
   "cell_type": "markdown",
   "metadata": {},
   "source": [
    "---\n",
    "## 5. count_nonzero(p) function\n",
    "* `count_nonzero(p)` function is used to get the count of non zero values in the array.\n",
    "* Takes array object as an argument."
   ]
  },
  {
   "cell_type": "code",
   "execution_count": 10,
   "metadata": {},
   "outputs": [
    {
     "name": "stdout",
     "output_type": "stream",
     "text": [
      "[[10  0 30]\n",
      " [40 50  0]]\n",
      "Count: 4\n"
     ]
    }
   ],
   "source": [
    "values = [[10, 0, 30], [40, 50, 0]]\n",
    "sales = np.array(values) \n",
    "print(sales)\n",
    "print(\"Count:\",np.count_nonzero(sales))"
   ]
  },
  {
   "cell_type": "markdown",
   "metadata": {},
   "source": [
    "---\n",
    "## 6. sort() method\n",
    "* method requires array object to invoke it.\n",
    "* `sort()` method is used to sort the values in array."
   ]
  },
  {
   "cell_type": "code",
   "execution_count": 11,
   "metadata": {},
   "outputs": [
    {
     "name": "stdout",
     "output_type": "stream",
     "text": [
      "[[10  5 30]\n",
      " [40 32 63]]\n",
      "\n",
      "[[ 5 10 30]\n",
      " [32 40 63]]\n"
     ]
    }
   ],
   "source": [
    "values = [[10, 5, 30], [40, 32, 63]]\n",
    "sales = np.array(values) \n",
    "print(sales)\n",
    "sales.sort()\n",
    "print()\n",
    "print(sales)"
   ]
  },
  {
   "cell_type": "markdown",
   "metadata": {},
   "source": [
    "---\n",
    "## 7. flatten() method\n",
    "* method requires array object to invoke it.\n",
    "* `flatten()` method is used to turn the arrays into 1-D array."
   ]
  },
  {
   "cell_type": "code",
   "execution_count": 12,
   "metadata": {},
   "outputs": [
    {
     "name": "stdout",
     "output_type": "stream",
     "text": [
      "[[10  5 30]\n",
      " [40 32 63]]\n",
      "\n",
      "[10  5 30 40 32 63]\n"
     ]
    }
   ],
   "source": [
    "values = [[10, 5, 30], [40, 32, 63]]\n",
    "sales = np.array(values) \n",
    "print(sales)\n",
    "print()\n",
    "print(sales.flatten())"
   ]
  },
  {
   "cell_type": "markdown",
   "metadata": {},
   "source": [
    "---\n",
    "## 8. diagonal() method\n",
    "* method requires array object to invoke it.\n",
    "* `diagonal()` method is used to return the diagonal values of a matrix."
   ]
  },
  {
   "cell_type": "code",
   "execution_count": 13,
   "metadata": {},
   "outputs": [
    {
     "name": "stdout",
     "output_type": "stream",
     "text": [
      "[[1 2 3]\n",
      " [4 5 6]\n",
      " [7 8 9]]\n",
      "\n",
      "[1 5 9]\n"
     ]
    }
   ],
   "source": [
    "matrix = np.array([[1, 2, 3], [4, 5, 6], [7, 8, 9]])\n",
    "print(matrix)\n",
    "print()\n",
    "print(matrix.diagonal())"
   ]
  },
  {
   "cell_type": "markdown",
   "metadata": {},
   "source": [
    "---\n",
    "## 9. trace() method\n",
    "* method requires array object to invoke it.\n",
    "* `trace()` method is used to return the sum of the diagonal elements."
   ]
  },
  {
   "cell_type": "code",
   "execution_count": 15,
   "metadata": {},
   "outputs": [
    {
     "name": "stdout",
     "output_type": "stream",
     "text": [
      "[[1 2 3]\n",
      " [4 5 6]\n",
      " [7 8 9]]\n",
      "\n",
      "Sum of diagonal elements: 15\n"
     ]
    }
   ],
   "source": [
    "matrix = np.array([[1, 2, 3], [4, 5, 6], [7, 8, 9]])\n",
    "print(matrix)\n",
    "print()\n",
    "print(\"Sum of diagonal elements:\", matrix.trace())"
   ]
  },
  {
   "cell_type": "markdown",
   "metadata": {},
   "source": [
    "---\n",
    "## 10. Add, Sub different matrices\n",
    "* using `add()` and `subtract()` functions of numpy.\n",
    "* direct addition or subraction is also possible."
   ]
  },
  {
   "cell_type": "code",
   "execution_count": null,
   "metadata": {},
   "outputs": [
    {
     "name": "stdout",
     "output_type": "stream",
     "text": [
      "Matrix A:\n",
      "[[1 1 1]\n",
      " [1 1 1]\n",
      " [1 1 2]]\n",
      "\n",
      "Matrix B:\n",
      "[[1 3 1]\n",
      " [1 3 1]\n",
      " [1 3 8]]\n",
      "\n",
      "Matrix A + Matrix B:\n",
      "[[ 2  4  2]\n",
      " [ 2  4  2]\n",
      " [ 2  4 10]]\n"
     ]
    }
   ],
   "source": [
    "#Matrix Addition:\n",
    "matrix_a = np.array([[1, 1, 1], [1, 1, 1], [1, 1, 2]])\n",
    "matrix_b = np.array([[1, 3, 1], [1, 3, 1], [1, 3, 8]])\n",
    "print(\"Matrix A:\")\n",
    "print(matrix_a)\n",
    "print()\n",
    "print(\"Matrix B:\")\n",
    "print(matrix_b)\n",
    "print()\n",
    "print(\"Matrix A + Matrix B:\")\n",
    "print(np.add(matrix_a, matrix_b))"
   ]
  },
  {
   "cell_type": "code",
   "execution_count": 20,
   "metadata": {},
   "outputs": [
    {
     "name": "stdout",
     "output_type": "stream",
     "text": [
      "Matrix Addition:\n",
      "[[ 2  4  2]\n",
      " [ 2  4  2]\n",
      " [ 2  4 10]]\n"
     ]
    }
   ],
   "source": [
    "matrix_a = np.array([[1, 1, 1], [1, 1, 1], [1, 1, 2]])\n",
    "matrix_b = np.array([[1, 3, 1], [1, 3, 1], [1, 3, 8]])\n",
    "print(\"Matrix Addition:\")\n",
    "print(matrix_a + matrix_b)"
   ]
  },
  {
   "cell_type": "code",
   "execution_count": 19,
   "metadata": {},
   "outputs": [
    {
     "name": "stdout",
     "output_type": "stream",
     "text": [
      "Matrix A:\n",
      "[[1 1 1]\n",
      " [1 1 1]\n",
      " [1 1 2]]\n",
      "\n",
      "Matrix B:\n",
      "[[1 3 1]\n",
      " [1 3 1]\n",
      " [1 3 8]]\n",
      "\n",
      "Matrix A - Matrix B:\n",
      "[[ 0 -2  0]\n",
      " [ 0 -2  0]\n",
      " [ 0 -2 -6]]\n"
     ]
    }
   ],
   "source": [
    "#Matrix Subtraction:\n",
    "matrix_a = np.array([[1, 1, 1], [1, 1, 1], [1, 1, 2]])\n",
    "matrix_b = np.array([[1, 3, 1], [1, 3, 1], [1, 3, 8]])\n",
    "print(\"Matrix A:\")\n",
    "print(matrix_a)\n",
    "print()\n",
    "print(\"Matrix B:\")\n",
    "print(matrix_b)\n",
    "print()\n",
    "print(\"Matrix A - Matrix B:\")\n",
    "print(np.subtract(matrix_a, matrix_b))"
   ]
  },
  {
   "cell_type": "code",
   "execution_count": 21,
   "metadata": {},
   "outputs": [
    {
     "name": "stdout",
     "output_type": "stream",
     "text": [
      "Matrix Subtraction:\n",
      "[[ 0 -2  0]\n",
      " [ 0 -2  0]\n",
      " [ 0 -2 -6]]\n"
     ]
    }
   ],
   "source": [
    "matrix_a = np.array([[1, 1, 1], [1, 1, 1], [1, 1, 2]])\n",
    "matrix_b = np.array([[1, 3, 1], [1, 3, 1], [1, 3, 8]])\n",
    "print(\"Matrix Subtraction:\")\n",
    "print(matrix_a - matrix_b)"
   ]
  },
  {
   "cell_type": "markdown",
   "metadata": {},
   "source": [
    "---\n",
    "## 11. Performing arithmetic operations on array values"
   ]
  },
  {
   "cell_type": "code",
   "execution_count": null,
   "metadata": {},
   "outputs": [
    {
     "name": "stdout",
     "output_type": "stream",
     "text": [
      "[[10 20 30]\n",
      " [40 50 60]]\n",
      "\n",
      "[[12 22 32]\n",
      " [42 52 62]]\n"
     ]
    }
   ],
   "source": [
    "#Adding a particular value to array values\n",
    "values = [[10, 20, 30], [40, 50, 60]]\n",
    "sales = np.array(values) \n",
    "print(sales)\n",
    "print()\n",
    "print(sales + 2)"
   ]
  },
  {
   "cell_type": "code",
   "execution_count": null,
   "metadata": {},
   "outputs": [
    {
     "name": "stdout",
     "output_type": "stream",
     "text": [
      "[[10 20 30]\n",
      " [40 50 60]]\n",
      "\n",
      "[[ 8 18 28]\n",
      " [38 48 58]]\n"
     ]
    }
   ],
   "source": [
    "#Subtracting a particular value to array values\n",
    "values = [[10, 20, 30], [40, 50, 60]]\n",
    "sales = np.array(values) \n",
    "print(sales)\n",
    "print()\n",
    "print(sales - 2)"
   ]
  },
  {
   "cell_type": "code",
   "execution_count": null,
   "metadata": {},
   "outputs": [
    {
     "name": "stdout",
     "output_type": "stream",
     "text": [
      "[[10 20 30]\n",
      " [40 50 60]]\n",
      "\n",
      "[[ 20  40  60]\n",
      " [ 80 100 120]]\n"
     ]
    }
   ],
   "source": [
    "#Multiplying a particular value to array values\n",
    "values = [[10, 20, 30], [40, 50, 60]]\n",
    "sales = np.array(values) \n",
    "print(sales)\n",
    "print()\n",
    "print(sales * 2)"
   ]
  },
  {
   "cell_type": "code",
   "execution_count": null,
   "metadata": {},
   "outputs": [
    {
     "name": "stdout",
     "output_type": "stream",
     "text": [
      "[[10 20 30]\n",
      " [40 50 60]]\n",
      "\n",
      "[[ 5 10 15]\n",
      " [20 25 30]]\n"
     ]
    }
   ],
   "source": [
    "#Dividing a particular value to array values\n",
    "values = [[10, 20, 30], [40, 50, 60]]\n",
    "sales = np.array(values) \n",
    "print(sales)\n",
    "print()\n",
    "print(sales // 2)"
   ]
  },
  {
   "cell_type": "markdown",
   "metadata": {},
   "source": [
    "---"
   ]
  }
 ],
 "metadata": {
  "kernelspec": {
   "display_name": "venv",
   "language": "python",
   "name": "python3"
  },
  "language_info": {
   "codemirror_mode": {
    "name": "ipython",
    "version": 3
   },
   "file_extension": ".py",
   "mimetype": "text/x-python",
   "name": "python",
   "nbconvert_exporter": "python",
   "pygments_lexer": "ipython3",
   "version": "3.12.7"
  }
 },
 "nbformat": 4,
 "nbformat_minor": 2
}
