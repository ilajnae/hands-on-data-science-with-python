{
 "cells": [
  {
   "cell_type": "markdown",
   "metadata": {},
   "source": [
    "# Introduction To Series\n",
    "---\n"
   ]
  },
  {
   "cell_type": "markdown",
   "metadata": {},
   "source": [
    "#### *In this notebook we have:*\n",
    "1. What is Series ?\n",
    "2. Creating Series\n",
    "    - Empty Series obj\n",
    "    - Using List\n",
    "    - Using array\n",
    "    - From DataFrame\n",
    "3. Indexing in Series\n",
    "4. Accessing values in Series\n",
    "---"
   ]
  },
  {
   "cell_type": "markdown",
   "metadata": {},
   "source": [
    "## 1. What is Series?\n",
    "* **Pre-defined class** in Pandas library.\n",
    "* 1-D labeled array.\n",
    "* Can store same and different types of the data.\n",
    "* Stores data in sequential order.\n",
    "* **one column** information"
   ]
  },
  {
   "cell_type": "markdown",
   "metadata": {},
   "source": [
    "## 2. Creating Series"
   ]
  },
  {
   "cell_type": "markdown",
   "metadata": {},
   "source": [
    "* ### Empty Series"
   ]
  },
  {
   "cell_type": "code",
   "execution_count": 1,
   "metadata": {},
   "outputs": [
    {
     "name": "stdout",
     "output_type": "stream",
     "text": [
      "Series([], dtype: object)\n",
      "<class 'pandas.core.series.Series'>\n"
     ]
    }
   ],
   "source": [
    "import pandas as pd\n",
    "\n",
    "#object creation of Series class\n",
    "s = pd.Series() \n",
    "print(s) #prints empty series\n",
    "\n",
    "print(type(s)) #prints the type of s"
   ]
  },
  {
   "cell_type": "markdown",
   "metadata": {},
   "source": [
    "---\n",
    "* ### Using List"
   ]
  },
  {
   "cell_type": "code",
   "execution_count": 2,
   "metadata": {},
   "outputs": [
    {
     "name": "stdout",
     "output_type": "stream",
     "text": [
      "0    1\n",
      "1    2\n",
      "2    4\n",
      "3    5\n",
      "4    7\n",
      "5    4\n",
      "Name: count, dtype: int64\n"
     ]
    }
   ],
   "source": [
    "l = [1,2,4,5,7,4] #List\n",
    "\n",
    "s = pd.Series(l, name = \"count\")\n",
    "print(s)"
   ]
  },
  {
   "cell_type": "code",
   "execution_count": 3,
   "metadata": {},
   "outputs": [
    {
     "name": "stdout",
     "output_type": "stream",
     "text": [
      "0    Anjali\n",
      "1      Sung\n",
      "2       Lee\n",
      "Name: student, dtype: object\n"
     ]
    }
   ],
   "source": [
    "stu = [\"Anjali\", \"Sung\", \"Lee\"]\n",
    "\n",
    "s = pd.Series(stu, name = \"student\")\n",
    "print(s)"
   ]
  },
  {
   "cell_type": "code",
   "execution_count": 4,
   "metadata": {},
   "outputs": [
    {
     "data": {
      "text/plain": [
       "0    0\n",
       "1    1\n",
       "2    2\n",
       "3    3\n",
       "4    4\n",
       "dtype: int64"
      ]
     },
     "execution_count": 4,
     "metadata": {},
     "output_type": "execute_result"
    }
   ],
   "source": [
    "a = list(range(100))\n",
    "s = pd.Series(a)\n",
    "s.head()"
   ]
  },
  {
   "cell_type": "markdown",
   "metadata": {},
   "source": [
    "---\n",
    "* ### Using Array"
   ]
  },
  {
   "cell_type": "code",
   "execution_count": 5,
   "metadata": {},
   "outputs": [
    {
     "name": "stdout",
     "output_type": "stream",
     "text": [
      "0    1\n",
      "1    2\n",
      "2    4\n",
      "3    6\n",
      "4    3\n",
      "dtype: int64\n"
     ]
    }
   ],
   "source": [
    "import numpy as np \n",
    "\n",
    "val = [1,2,4,6,3]\n",
    "\n",
    "#converting list to array using numpy\n",
    "data = np.array(val)\n",
    "\n",
    "s = pd.Series(data)\n",
    "print(s)\n"
   ]
  },
  {
   "cell_type": "code",
   "execution_count": 6,
   "metadata": {},
   "outputs": [
    {
     "name": "stdout",
     "output_type": "stream",
     "text": [
      "0    Anjali\n",
      "1      Sung\n",
      "2       Lee\n",
      "dtype: object\n"
     ]
    }
   ],
   "source": [
    "val = [\"Anjali\", \"Sung\", \"Lee\"]\n",
    "data = np.array(val)\n",
    "s = pd.Series(data)\n",
    "print(s)"
   ]
  },
  {
   "cell_type": "markdown",
   "metadata": {},
   "source": [
    "---\n",
    "* ### Using DataFrame"
   ]
  },
  {
   "cell_type": "code",
   "execution_count": 7,
   "metadata": {},
   "outputs": [
    {
     "name": "stdout",
     "output_type": "stream",
     "text": [
      "1. df is  <class 'pandas.core.frame.DataFrame'>\n",
      "2. Name col under df is  <class 'pandas.core.series.Series'>\n"
     ]
    }
   ],
   "source": [
    "data = {\n",
    "    \"Name\": [\"Alice\", \"Bob\", \"Charlie\"],\n",
    "    \"Age\": [25, 30, 35],\n",
    "    \"City\": [\"New York\", \"Los Angeles\", \"Chicago\"]\n",
    "}\n",
    "\n",
    "# Creating DataFrame\n",
    "df = pd.DataFrame(data)\n",
    "print(\"1. df is \",type(df))\n",
    "\n",
    "#Accessing a single column from DataFrame which is a Series\n",
    "print(\"2. Name col under df is \",type(df.Name))"
   ]
  },
  {
   "cell_type": "markdown",
   "metadata": {},
   "source": [
    "---\n",
    "## 3. Indexing in Series\n",
    "\n",
    "- Default index is 0,1,2,3 and so on\n",
    "- For personalized index use '**index**' as a keyword argument in Series"
   ]
  },
  {
   "cell_type": "code",
   "execution_count": 8,
   "metadata": {},
   "outputs": [
    {
     "name": "stdout",
     "output_type": "stream",
     "text": [
      "10    145\n",
      "20    142\n",
      "30     38\n",
      "40     13\n",
      "Name: counts, dtype: int64\n"
     ]
    }
   ],
   "source": [
    "v = [145, 142, 38, 13]\n",
    "i = [10, 20, 30, 40]\n",
    "s = pd.Series(v, name = 'counts', index = i )\n",
    "print(s)"
   ]
  },
  {
   "cell_type": "markdown",
   "metadata": {},
   "source": [
    "---\n",
    "## 4. Accessing values in Series\n",
    "\n",
    "* Simply use the Index"
   ]
  },
  {
   "cell_type": "code",
   "execution_count": 9,
   "metadata": {},
   "outputs": [
    {
     "name": "stdout",
     "output_type": "stream",
     "text": [
      "Here is the Series:\n",
      "Blue Berry     234\n",
      "Banana         643\n",
      "Kiwi           256\n",
      "Custurd       2654\n",
      "Name: fruits, dtype: int64 \n",
      "\n",
      "Accessing the Blue Berry Index: 234\n"
     ]
    }
   ],
   "source": [
    "count = [234,643,256,2654]\n",
    "fruits = [\"Blue Berry\", \"Banana\", \"Kiwi\", \"Custurd\"]\n",
    "\n",
    "s = pd.Series(count, name = 'fruits', index = fruits)\n",
    "print(\"Here is the Series:\")\n",
    "print(s,\"\\n\")\n",
    "\n",
    "print(\"Accessing the Blue Berry Index:\", s[\"Blue Berry\"])"
   ]
  },
  {
   "cell_type": "markdown",
   "metadata": {},
   "source": [
    "---"
   ]
  }
 ],
 "metadata": {
  "kernelspec": {
   "display_name": "venv",
   "language": "python",
   "name": "python3"
  },
  "language_info": {
   "codemirror_mode": {
    "name": "ipython",
    "version": 3
   },
   "file_extension": ".py",
   "mimetype": "text/x-python",
   "name": "python",
   "nbconvert_exporter": "python",
   "pygments_lexer": "ipython3",
   "version": "3.12.7"
  }
 },
 "nbformat": 4,
 "nbformat_minor": 2
}
