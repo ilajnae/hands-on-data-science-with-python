{
 "cells": [
  {
   "cell_type": "markdown",
   "metadata": {},
   "source": [
    "# Methods in Series Class\n",
    "---"
   ]
  },
  {
   "cell_type": "markdown",
   "metadata": {},
   "source": [
    "#### *In this notebook we have:*\n",
    "1. head()\n",
    "2. tail()\n",
    "3. sum()\n",
    "4. count()\n",
    "5. mean()\n",
    "6. describe()\n",
    "7. unique()\n",
    "8. nunique()\n",
    "---"
   ]
  },
  {
   "cell_type": "markdown",
   "metadata": {},
   "source": [
    "### Series Methods:\n",
    "* Series being a class has predefined methods of its own.\n",
    "* These methods perform operations on the Series values.\n",
    "* These methods can be accessed by Series object.\n",
    "---"
   ]
  },
  {
   "cell_type": "markdown",
   "metadata": {},
   "source": [
    "## 1. head() method\n",
    "* Returns first five values from the series"
   ]
  },
  {
   "cell_type": "code",
   "execution_count": 1,
   "metadata": {},
   "outputs": [
    {
     "name": "stdout",
     "output_type": "stream",
     "text": [
      "0    56\n",
      "1    45\n",
      "2    35\n",
      "3    41\n",
      "4    60\n",
      "dtype: int64\n"
     ]
    }
   ],
   "source": [
    "import pandas as pd\n",
    "\n",
    "marks = [56, 45, 35, 41, 60, 57, 56, 56]\n",
    "s = pd.Series(marks)\n",
    "\n",
    "print(s.head()) #prints first 5 values from Series"
   ]
  },
  {
   "cell_type": "markdown",
   "metadata": {},
   "source": [
    "---\n",
    "## 2. tail() method\n",
    "* Returns last 5 values from the series"
   ]
  },
  {
   "cell_type": "code",
   "execution_count": 2,
   "metadata": {},
   "outputs": [
    {
     "name": "stdout",
     "output_type": "stream",
     "text": [
      "3    41\n",
      "4    60\n",
      "5    57\n",
      "6    56\n",
      "7    56\n",
      "dtype: int64\n"
     ]
    }
   ],
   "source": [
    "marks = [56, 45, 35, 41, 60, 57, 56, 56]\n",
    "s = pd.Series(marks)\n",
    "\n",
    "print(s.tail()) #prints last 5 rows/values of series"
   ]
  },
  {
   "cell_type": "markdown",
   "metadata": {},
   "source": [
    "---\n",
    "## 3. sum() method\n",
    "* Returns the sum of all values"
   ]
  },
  {
   "cell_type": "code",
   "execution_count": 3,
   "metadata": {},
   "outputs": [
    {
     "name": "stdout",
     "output_type": "stream",
     "text": [
      "406\n"
     ]
    }
   ],
   "source": [
    "marks = [56, 45, 35, 41, 60, 57, 56, 56]\n",
    "s = pd.Series(marks)\n",
    "\n",
    "print(s.sum())"
   ]
  },
  {
   "cell_type": "markdown",
   "metadata": {},
   "source": [
    "* For String values, sum() works as a concatenator"
   ]
  },
  {
   "cell_type": "code",
   "execution_count": 4,
   "metadata": {},
   "outputs": [
    {
     "name": "stdout",
     "output_type": "stream",
     "text": [
      "keyboardbottleofwater\n"
     ]
    }
   ],
   "source": [
    "names = [\"key\", \"board\", \"bottle\", \"of\", \"water\"]\n",
    "s = pd.Series(names)\n",
    "\n",
    "print(s.sum())"
   ]
  },
  {
   "cell_type": "markdown",
   "metadata": {},
   "source": [
    "---\n",
    "## 4. count() method\n",
    "* Returns the number of non-null/ non-NAN values"
   ]
  },
  {
   "cell_type": "code",
   "execution_count": 5,
   "metadata": {},
   "outputs": [
    {
     "name": "stdout",
     "output_type": "stream",
     "text": [
      "0    56.0\n",
      "1    45.0\n",
      "2    35.0\n",
      "3    41.0\n",
      "4     NaN\n",
      "5    60.0\n",
      "6     NaN\n",
      "dtype: float64\n",
      "\n",
      "Count : 5\n"
     ]
    }
   ],
   "source": [
    "#import numpy for nan values \n",
    "import numpy as np\n",
    "\n",
    "#list having nan (null/ not a number/ missing values)\n",
    "marks = [56, 45, 35, 41, np.nan, 60, np.nan]\n",
    "\n",
    "s = pd.Series(marks)\n",
    "\n",
    "print(s)\n",
    "print()\n",
    "\n",
    "#counts the non null values in the Series\n",
    "print(\"Count :\", s.count())"
   ]
  },
  {
   "cell_type": "markdown",
   "metadata": {},
   "source": [
    "---\n",
    "## 5. mean() method \n",
    "* Returns the average of the Series values"
   ]
  },
  {
   "cell_type": "code",
   "execution_count": 6,
   "metadata": {},
   "outputs": [
    {
     "name": "stdout",
     "output_type": "stream",
     "text": [
      "50.75\n"
     ]
    }
   ],
   "source": [
    "marks = [56, 45, 35, 41, 60, 57, 56, 56]\n",
    "s = pd.Series(marks)\n",
    "\n",
    "print(s.mean())"
   ]
  },
  {
   "cell_type": "markdown",
   "metadata": {},
   "source": [
    "---\n",
    "## 6. describe() method\n",
    "* Returns the following\n",
    "    * count\n",
    "    * mean\n",
    "    * std\n",
    "    * min\n",
    "    * 25%\n",
    "    * 50%\n",
    "    * 75%\n",
    "    * max"
   ]
  },
  {
   "cell_type": "code",
   "execution_count": 7,
   "metadata": {},
   "outputs": [
    {
     "name": "stdout",
     "output_type": "stream",
     "text": [
      "count     8.000000\n",
      "mean     50.750000\n",
      "std       9.130013\n",
      "min      35.000000\n",
      "25%      44.000000\n",
      "50%      56.000000\n",
      "75%      56.250000\n",
      "max      60.000000\n",
      "dtype: float64\n"
     ]
    }
   ],
   "source": [
    "marks = [56, 45, 35, 41, 60, 57, 56, 56]\n",
    "s = pd.Series(marks)\n",
    "\n",
    "print(s.describe())"
   ]
  },
  {
   "cell_type": "markdown",
   "metadata": {},
   "source": [
    "---\n",
    "## 7. unique() method\n",
    "* Returns unique values in the Series"
   ]
  },
  {
   "cell_type": "code",
   "execution_count": 8,
   "metadata": {},
   "outputs": [
    {
     "name": "stdout",
     "output_type": "stream",
     "text": [
      "['key' 'of' 'bottle' 'water']\n"
     ]
    }
   ],
   "source": [
    "names = [\"key\", \"of\", \"bottle\", \"bottle\", \"of\", \"water\"]\n",
    "s = pd.Series(names)\n",
    "\n",
    "print(s.unique())"
   ]
  },
  {
   "cell_type": "markdown",
   "metadata": {},
   "source": [
    "---\n",
    "## 8. nunique() method\n",
    "* Returns the number of uniques values in the Series"
   ]
  },
  {
   "cell_type": "code",
   "execution_count": 9,
   "metadata": {},
   "outputs": [
    {
     "name": "stdout",
     "output_type": "stream",
     "text": [
      "4\n"
     ]
    }
   ],
   "source": [
    "names = [\"key\", \"of\", \"bottle\", \"bottle\", \"of\", \"water\"]\n",
    "s = pd.Series(names)\n",
    "\n",
    "print(s.nunique())"
   ]
  },
  {
   "cell_type": "markdown",
   "metadata": {},
   "source": [
    "---\n",
    "*That is it for today..*\n",
    "*Happy Learning!!! :)*"
   ]
  }
 ],
 "metadata": {
  "kernelspec": {
   "display_name": "venv",
   "language": "python",
   "name": "python3"
  },
  "language_info": {
   "codemirror_mode": {
    "name": "ipython",
    "version": 3
   },
   "file_extension": ".py",
   "mimetype": "text/x-python",
   "name": "python",
   "nbconvert_exporter": "python",
   "pygments_lexer": "ipython3",
   "version": "3.12.7"
  }
 },
 "nbformat": 4,
 "nbformat_minor": 2
}
