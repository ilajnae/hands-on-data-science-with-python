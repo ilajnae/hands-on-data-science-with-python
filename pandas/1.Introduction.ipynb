{
 "cells": [
  {
   "cell_type": "markdown",
   "metadata": {},
   "source": [
    "# Introduction to Pandas\n",
    "---\n",
    "#### *In this notebook we have*\n",
    "\n",
    "1. [What is Pandas?](#1.-what-is-pandas?)  \n",
    "2. [Why Pandas?](#2.-why-pandas?)  \n",
    "3. [Key Features of Pandas.](#3.-key-features-of-pandas.)  \n",
    "4. [Types of Data Structures in Pandas.](#4.-types-of-data-structures-in-pandas.)  \n",
    "5. [Importing and Aliasing Pandas.](#5.-importing-and-aliasing-pandas.)\n",
    "\n",
    "---"
   ]
  },
  {
   "cell_type": "markdown",
   "metadata": {},
   "source": [
    "\n",
    "\n",
    "##  1. What is Pandas?\n",
    "- Pandas is an open-source Python Library. \n",
    "- Provides powerful data structures for data manipulation and analysis.\n",
    "\n",
    "---\n",
    "\n",
    "##  2. Why Pandas?\n",
    "Pandas is mainly used for data analysis. With Pandas, you can easily:\n",
    "- Load data\n",
    "- Prepare data\n",
    "- Manipulate data\n",
    "- Analyze data\n",
    "\n",
    "---\n",
    "\n",
    "##  3. Key Features of Pandas\n",
    "- **Easy data loading:** Supports various file formats.\n",
    "- **Handling missing data:** Built-in methods like `fillna()`, `dropna()`.\n",
    "- **Data reshaping:** Pivot tables and reindexing.\n",
    "- **Grouping data:** Using `groupby()`.\n",
    "- **Indexing and slicing:** Label-based and integer-based indexing.\n",
    "- **Column operations:** Easy insertion and deletion of columns.\n",
    "- **Aggregation and transformations:** Efficient data merging and joining.\n",
    "- **High performance:** Built on top of NumPy.\n",
    "\n",
    "---\n",
    "\n",
    "##  4. Types of Data Structures in Pandas\n",
    "\n",
    "| Data Structure | Dimensions | Description |\n",
    "|----------------|------------|-------------|\n",
    "| **Series**     | 1D         | Similar to a single column of data (like an Excel column). |\n",
    "| **DataFrame**  | 2D         | A table containing rows and columns (like an Excel sheet). |\n",
    "| **Panel**      | 3D         | A collection of DataFrames (deprecated, rarely used now). |\n",
    "\n",
    "👉 **Note:** *Series and DataFrames are the most commonly used data structures.*\n",
    "\n",
    "**Relationships:**\n",
    "- A **Series** has a single column.\n",
    "- A **DataFrame** contains multiple Series.\n",
    "- A **Panel** contains multiple DataFrames.\n",
    "\n",
    "---\n",
    "\n"
   ]
  },
  {
   "cell_type": "markdown",
   "metadata": {},
   "source": [
    "## 5. Importing and Aliasing Pandas\n",
    "\n",
    "###  Importing Pandas\n",
    "To use Pandas, first install the library using `pip` and then import it into your Python script:\n",
    "\n",
    "```bash\n",
    "# Install pandas\n",
    "pip install pandas\n",
    "```\n",
    "\n"
   ]
  },
  {
   "cell_type": "code",
   "execution_count": 1,
   "metadata": {},
   "outputs": [
    {
     "name": "stdout",
     "output_type": "stream",
     "text": [
      "Pandas imported successfully!\n"
     ]
    }
   ],
   "source": [
    "# Import pandas\n",
    "import pandas\n",
    "print(\"Pandas imported successfully!\")"
   ]
  },
  {
   "cell_type": "markdown",
   "metadata": {},
   "source": [
    "---\n",
    "###  Aliasing Pandas\n",
    "Aliasing allows you to use a shorter name for Pandas, making your code cleaner and easier to write. This is done using the `as` keyword:"
   ]
  },
  {
   "cell_type": "code",
   "execution_count": 2,
   "metadata": {},
   "outputs": [
    {
     "name": "stdout",
     "output_type": "stream",
     "text": [
      "Pandas imported successfully!\n",
      "Aliased to 'pd'\n"
     ]
    }
   ],
   "source": [
    "# Aliasing pandas as pd\n",
    "import pandas as pd\n",
    "print(\"Pandas imported successfully!\")\n",
    "print(\"Aliased to 'pd'\")"
   ]
  },
  {
   "cell_type": "markdown",
   "metadata": {},
   "source": [
    "**Why alias Pandas?**\n",
    "- Just like using a nickname, aliasing simplifies repetitive use of the library name.\n",
    "- The community-standard alias for Pandas is **`pd`**, recognized universally by developers.\n",
    "\n",
    "---\n",
    "\n",
    "Now, you can use `pd` instead of typing `pandas` every time, like this:"
   ]
  },
  {
   "cell_type": "code",
   "execution_count": 3,
   "metadata": {},
   "outputs": [
    {
     "name": "stdout",
     "output_type": "stream",
     "text": [
      "0    10\n",
      "1    20\n",
      "2    30\n",
      "dtype: int64\n"
     ]
    }
   ],
   "source": [
    "# Creating a simple Series using the pd alias\n",
    "data = pd.Series([10, 20, 30])\n",
    "print(data)"
   ]
  },
  {
   "cell_type": "markdown",
   "metadata": {},
   "source": [
    " *Happy coding with Pandas!*"
   ]
  }
 ],
 "metadata": {
  "kernelspec": {
   "display_name": "venv",
   "language": "python",
   "name": "python3"
  },
  "language_info": {
   "codemirror_mode": {
    "name": "ipython",
    "version": 3
   },
   "file_extension": ".py",
   "mimetype": "text/x-python",
   "name": "python",
   "nbconvert_exporter": "python",
   "pygments_lexer": "ipython3",
   "version": "3.12.7"
  }
 },
 "nbformat": 4,
 "nbformat_minor": 2
}
