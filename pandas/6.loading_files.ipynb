{
 "cells": [
  {
   "cell_type": "markdown",
   "metadata": {},
   "source": [
    "# Loading Files using Pandas\n",
    "---"
   ]
  },
  {
   "cell_type": "markdown",
   "metadata": {},
   "source": [
    "#### *In this notebook we have:*\n",
    "1. Loading different types of files:\n",
    "    * csv files\n",
    "    * json files\n",
    "    * excel files\n",
    "    * tsv files\n",
    "    * table from webpage \n",
    "---"
   ]
  },
  {
   "cell_type": "markdown",
   "metadata": {},
   "source": [
    "## Let's import necessary libraries"
   ]
  },
  {
   "cell_type": "code",
   "execution_count": 6,
   "metadata": {},
   "outputs": [],
   "source": [
    "import pandas as pd"
   ]
  },
  {
   "cell_type": "markdown",
   "metadata": {},
   "source": [
    "## 1. Loading csv files:\n",
    "* csv stands for **comma seperated values**.\n",
    "* load them using `read_csv(\"path\")` function of pandas.\n",
    "* pass the path of the csv file as a argument to the read_csv(\"path\") function.\n",
    "* read_csv(\"path\") returns a DataFrame object."
   ]
  },
  {
   "cell_type": "code",
   "execution_count": 7,
   "metadata": {},
   "outputs": [
    {
     "name": "stdout",
     "output_type": "stream",
     "text": [
      "     Order ID Customer Name                 Product  Quantity\n",
      "0      166837         Veeru  34in Ultrawide Monitor         2\n",
      "1      166838         Tarun             Samsung m10         3\n",
      "2      166839         Kedar            20in Monitor         1\n",
      "3      166840       Lavanya               iPhone 11         3\n",
      "4      166841          Venu      Macbook Pro Laptop         2\n",
      "..        ...           ...                     ...       ...\n",
      "595    167403        Balaji      Macbook Pro Laptop         1\n",
      "596    167404       Lavanya         ThinkPad Laptop         1\n",
      "597    167405          Venu           Flatscreen TV         1\n",
      "598    167406        Siddhu             Samsung m20         2\n",
      "599    167407         Tarun      LG Washing Machine         1\n",
      "\n",
      "[600 rows x 4 columns]\n"
     ]
    }
   ],
   "source": [
    "#Get the path of your file\n",
    "import pandas as pd\n",
    "path_csv = r\"..\\datasets\\sales1.csv\" \n",
    "df = pd.read_csv(path_csv)\n",
    "\n",
    "print(df)"
   ]
  },
  {
   "cell_type": "markdown",
   "metadata": {},
   "source": [
    "---\n",
    "## 2. Loading json files:\n",
    "* json stands for **java script object notation**\n",
    "* stores data as a key-values pair.\n",
    "* Load it by using `read_json(\"path\")` function of pandas.\n",
    "* read_json(\"path\") returns a pandas DataFrame object."
   ]
  },
  {
   "cell_type": "code",
   "execution_count": 8,
   "metadata": {},
   "outputs": [
    {
     "name": "stdout",
     "output_type": "stream",
     "text": [
      "     order_id     cust_name                product  quantity\n",
      "0    16278939       Lavanya        ThinkPad Laptop         2\n",
      "1    16278966         Kedar          Flatscreen TV         1\n",
      "2    16278993  Jaya Chandra     Macbook Pro Laptop         2\n",
      "3    16279020   Mallikarjun              iPhone 11         3\n",
      "4    16279047        Shahid     LG Washing Machine         1\n",
      "..        ...           ...                    ...       ...\n",
      "495  16292304         Sagar               iPhone 7         1\n",
      "496  16292331    Chaithanya            Samsung m20         1\n",
      "497  16292358        Siddhu               LG Dryer         2\n",
      "498  16292385        Siddhu  AA Batteries (4-pack)         1\n",
      "499  16292412         Sagar              iPhone 11         2\n",
      "\n",
      "[500 rows x 4 columns]\n"
     ]
    }
   ],
   "source": [
    "path_json = r\"..\\datasets\\sales1.json\" \n",
    "df = pd.read_json(path_json)\n",
    "\n",
    "print(df)"
   ]
  },
  {
   "cell_type": "markdown",
   "metadata": {},
   "source": [
    "---\n",
    "## 3. Loading Excel Files:\n",
    "* `read_excel(\"path\")` function is used\n",
    "* Pre-requisites: have xlrd and openpyxl installed prior.\n"
   ]
  },
  {
   "cell_type": "code",
   "execution_count": 9,
   "metadata": {},
   "outputs": [
    {
     "name": "stdout",
     "output_type": "stream",
     "text": [
      "Requirement already satisfied: xlrd in e:\\github_projects\\data-science-practice-guide\\venv\\lib\\site-packages (2.0.1)\n"
     ]
    },
    {
     "name": "stderr",
     "output_type": "stream",
     "text": [
      "\n",
      "[notice] A new release of pip is available: 24.2 -> 25.0.1\n",
      "[notice] To update, run: python.exe -m pip install --upgrade pip\n"
     ]
    },
    {
     "name": "stdout",
     "output_type": "stream",
     "text": [
      "Requirement already satisfied: openpyxl in e:\\github_projects\\data-science-practice-guide\\venv\\lib\\site-packages (3.1.5)\n",
      "Requirement already satisfied: et-xmlfile in e:\\github_projects\\data-science-practice-guide\\venv\\lib\\site-packages (from openpyxl) (2.0.0)\n"
     ]
    },
    {
     "name": "stderr",
     "output_type": "stream",
     "text": [
      "\n",
      "[notice] A new release of pip is available: 24.2 -> 25.0.1\n",
      "[notice] To update, run: python.exe -m pip install --upgrade pip\n"
     ]
    }
   ],
   "source": [
    "! pip install xlrd\n",
    "! pip install openpyxl"
   ]
  },
  {
   "cell_type": "code",
   "execution_count": 10,
   "metadata": {},
   "outputs": [
    {
     "name": "stdout",
     "output_type": "stream",
     "text": [
      "     Order ID Customer Name                 Product  Quantity\n",
      "0      166837         Veeru  34in Ultrawide Monitor         2\n",
      "1      166838         Tarun             Samsung m10         3\n",
      "2      166839         Kedar            20in Monitor         1\n",
      "3      166840       Lavanya               iPhone 11         3\n",
      "4      166841          Venu      Macbook Pro Laptop         2\n",
      "..        ...           ...                     ...       ...\n",
      "595    167403        Balaji      Macbook Pro Laptop         1\n",
      "596    167404       Lavanya         ThinkPad Laptop         1\n",
      "597    167405          Venu           Flatscreen TV         1\n",
      "598    167406        Siddhu             Samsung m20         2\n",
      "599    167407         Tarun      LG Washing Machine         1\n",
      "\n",
      "[600 rows x 4 columns]\n"
     ]
    }
   ],
   "source": [
    "path_xlsx = r\"..\\datasets\\sales1.xlsx\" \n",
    "df = pd.read_excel(path_xlsx)\n",
    "\n",
    "print(df)"
   ]
  },
  {
   "cell_type": "markdown",
   "metadata": {},
   "source": [
    "---\n",
    "## 4. Loading tsv files:\n",
    "* tsv stands for tab seperated values.\n",
    "* `read_table(\"path\")` function is used."
   ]
  },
  {
   "cell_type": "code",
   "execution_count": 11,
   "metadata": {},
   "outputs": [
    {
     "name": "stdout",
     "output_type": "stream",
     "text": [
      "     Order ID Customer Name                 Product  Quantity\n",
      "0      166837         Veeru  34in Ultrawide Monitor         2\n",
      "1      166838         Tarun             Samsung m10         3\n",
      "2      166839         Kedar            20in Monitor         1\n",
      "3      166840       Lavanya               iPhone 11         3\n",
      "4      166841          Venu      Macbook Pro Laptop         2\n",
      "..        ...           ...                     ...       ...\n",
      "595    167403        Balaji      Macbook Pro Laptop         1\n",
      "596    167404       Lavanya         ThinkPad Laptop         1\n",
      "597    167405          Venu           Flatscreen TV         1\n",
      "598    167406        Siddhu             Samsung m20         2\n",
      "599    167407         Tarun      LG Washing Machine         1\n",
      "\n",
      "[600 rows x 4 columns]\n"
     ]
    }
   ],
   "source": [
    "path_tsv = r\"..\\datasets\\sales1.tsv\" \n",
    "df = pd.read_table(path_tsv)\n",
    "\n",
    "print(df)"
   ]
  },
  {
   "cell_type": "markdown",
   "metadata": {},
   "source": [
    "---\n",
    "## 5. Loading Table from webpages:\n",
    "* `read_html(\"url\")` function is used.\n",
    "* It takes url of the webpage as an argument and returns a DataFrame.\n",
    "* Pre-requisites : have lxml"
   ]
  },
  {
   "cell_type": "code",
   "execution_count": 12,
   "metadata": {},
   "outputs": [
    {
     "name": "stdout",
     "output_type": "stream",
     "text": [
      "Requirement already satisfied: lxml in e:\\github_projects\\data-science-practice-guide\\venv\\lib\\site-packages (5.3.1)\n"
     ]
    },
    {
     "name": "stderr",
     "output_type": "stream",
     "text": [
      "\n",
      "[notice] A new release of pip is available: 24.2 -> 25.0.1\n",
      "[notice] To update, run: python.exe -m pip install --upgrade pip\n"
     ]
    }
   ],
   "source": [
    "! pip install lxml"
   ]
  },
  {
   "cell_type": "code",
   "execution_count": 13,
   "metadata": {},
   "outputs": [
    {
     "name": "stdout",
     "output_type": "stream",
     "text": [
      "   No.                      Name Net worth (USD)  Age  \\\n",
      "0    1  Bernard Arnault & family    $233 billion   75   \n",
      "1    2                 Elon Musk    $195 billion   52   \n",
      "2    3                Jeff Bezos    $194 billion   60   \n",
      "3    4           Mark Zuckerberg    $177 billion   39   \n",
      "4    5             Larry Ellison    $141 billion   79   \n",
      "5    6            Warren Buffett    $133 billion   93   \n",
      "6    7                Bill Gates    $128 billion   68   \n",
      "7    8             Steve Ballmer    $121 billion   68   \n",
      "8    9             Mukesh Ambani    $116 billion   66   \n",
      "9   10                Larry Page    $114 billion   51   \n",
      "\n",
      "                           Nationality Primary source(s) of wealth  \n",
      "0                               France                        LVMH  \n",
      "1  South Africa  Canada  United States               Tesla, SpaceX  \n",
      "2                        United States                      Amazon  \n",
      "3                        United States              Meta Platforms  \n",
      "4                        United States          Oracle Corporation  \n",
      "5                        United States          Berkshire Hathaway  \n",
      "6                        United States                   Microsoft  \n",
      "7                        United States                   Microsoft  \n",
      "8                                India         Reliance Industries  \n",
      "9                        United States                      Google  \n"
     ]
    }
   ],
   "source": [
    "url = 'https://en.wikipedia.org/wiki/The_World%27s_Billionaires' \n",
    "df = pd.read_html(url)\n",
    "\n",
    "print(df[2])"
   ]
  },
  {
   "cell_type": "markdown",
   "metadata": {},
   "source": [
    "---"
   ]
  }
 ],
 "metadata": {
  "kernelspec": {
   "display_name": "venv",
   "language": "python",
   "name": "python3"
  },
  "language_info": {
   "codemirror_mode": {
    "name": "ipython",
    "version": 3
   },
   "file_extension": ".py",
   "mimetype": "text/x-python",
   "name": "python",
   "nbconvert_exporter": "python",
   "pygments_lexer": "ipython3",
   "version": "3.12.7"
  }
 },
 "nbformat": 4,
 "nbformat_minor": 2
}
