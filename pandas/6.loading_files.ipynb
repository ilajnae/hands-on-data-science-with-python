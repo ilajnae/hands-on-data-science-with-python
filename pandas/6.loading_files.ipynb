{
 "cells": [
  {
   "cell_type": "code",
   "execution_count": 7,
   "metadata": {},
   "outputs": [
    {
     "name": "stdout",
     "output_type": "stream",
     "text": [
      "Updated Working Directory: E:\\GitHub_Projects\\data-science-practice-guide\n",
      "     Order ID Customer Name                 Product  Quantity\n",
      "0      166837         Veeru  34in Ultrawide Monitor         2\n",
      "1      166838         Tarun             Samsung m10         3\n",
      "2      166839         Kedar            20in Monitor         1\n",
      "3      166840       Lavanya               iPhone 11         3\n",
      "4      166841          Venu      Macbook Pro Laptop         2\n",
      "..        ...           ...                     ...       ...\n",
      "595    167403        Balaji      Macbook Pro Laptop         1\n",
      "596    167404       Lavanya         ThinkPad Laptop         1\n",
      "597    167405          Venu           Flatscreen TV         1\n",
      "598    167406        Siddhu             Samsung m20         2\n",
      "599    167407         Tarun      LG Washing Machine         1\n",
      "\n",
      "[600 rows x 4 columns]\n"
     ]
    }
   ],
   "source": [
    "import pandas as pd\n",
    "import os\n",
    "os.chdir(r\"E:\\GitHub_Projects\\data-science-practice-guide\")\n",
    "print(\"Updated Working Directory:\", os.getcwd())\n",
    "\n",
    "\n",
    "\n",
    "path = r\"datasets\\sales1.csv\"\n",
    "df = pd.read_csv(path)\n",
    "\n",
    "print(df)"
   ]
  },
  {
   "cell_type": "code",
   "execution_count": 5,
   "metadata": {},
   "outputs": [
    {
     "name": "stdout",
     "output_type": "stream",
     "text": [
      "Files in datasets folder: ['sales1.csv', 'sales1.json', 'sales1.tsv', 'sales1.xlsx']\n"
     ]
    }
   ],
   "source": [
    "print(\"Files in datasets folder:\", os.listdir(r\"E:\\GitHub_Projects\\data-science-practice-guide\\datasets\"))"
   ]
  },
  {
   "cell_type": "code",
   "execution_count": 6,
   "metadata": {},
   "outputs": [
    {
     "name": "stdout",
     "output_type": "stream",
     "text": [
      "Current Working Directory: e:\\GitHub_Projects\\data-science-practice-guide\\pandas\\pandas-examples\n"
     ]
    }
   ],
   "source": [
    "print(\"Current Working Directory:\", os.getcwd())"
   ]
  },
  {
   "cell_type": "code",
   "execution_count": null,
   "metadata": {},
   "outputs": [],
   "source": []
  }
 ],
 "metadata": {
  "kernelspec": {
   "display_name": "venv",
   "language": "python",
   "name": "python3"
  },
  "language_info": {
   "codemirror_mode": {
    "name": "ipython",
    "version": 3
   },
   "file_extension": ".py",
   "mimetype": "text/x-python",
   "name": "python",
   "nbconvert_exporter": "python",
   "pygments_lexer": "ipython3",
   "version": "3.12.7"
  }
 },
 "nbformat": 4,
 "nbformat_minor": 2
}
