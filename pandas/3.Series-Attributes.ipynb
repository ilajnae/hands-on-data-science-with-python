{
 "cells": [
  {
   "cell_type": "markdown",
   "metadata": {},
   "source": [
    "# 3. Attributes in Series\n",
    "---"
   ]
  },
  {
   "cell_type": "markdown",
   "metadata": {},
   "source": [
    "#### *In this notebook we will have:*\n",
    "1. values\n",
    "2. index\n",
    "3. dtypes\n",
    "4. size\n",
    "---"
   ]
  },
  {
   "cell_type": "markdown",
   "metadata": {},
   "source": [
    "## 1. values attribute\n",
    "* Predefined attribute in Series class.\n",
    "* Returns a group of values of the Series in the form of an array."
   ]
  },
  {
   "cell_type": "code",
   "execution_count": 1,
   "metadata": {},
   "outputs": [
    {
     "name": "stdout",
     "output_type": "stream",
     "text": [
      "0        Usha\n",
      "1       Bajaj\n",
      "2    Crompton\n",
      "Name: fans_company, dtype: object\n",
      "\n",
      "['Usha' 'Bajaj' 'Crompton']\n",
      "\n",
      "Return Type:  <class 'numpy.ndarray'>\n"
     ]
    }
   ],
   "source": [
    "import pandas as pd\n",
    "\n",
    "fans = [\"Usha\", 'Bajaj', \"Crompton\"]\n",
    "s = pd.Series(fans, name = \"fans_company\")\n",
    "\n",
    "print(s)\n",
    "print()\n",
    "\n",
    "#Accessing values using 'values' attribute\n",
    "a = s.values\n",
    "print(a)\n",
    "print()\n",
    "print(\"Return Type: \",type(a)) #prints the type of 'a'"
   ]
  },
  {
   "cell_type": "markdown",
   "metadata": {},
   "source": [
    "---\n",
    "## 2. index attribute\n",
    "* Returns the index range like, RangeIndex(start=0, stop=6, \n",
    "step=1)"
   ]
  },
  {
   "cell_type": "code",
   "execution_count": 2,
   "metadata": {},
   "outputs": [
    {
     "name": "stdout",
     "output_type": "stream",
     "text": [
      "0        Usha\n",
      "1       Bajaj\n",
      "2    Crompton\n",
      "Name: fans_company, dtype: object\n",
      "\n",
      "Index Range:  RangeIndex(start=0, stop=3, step=1)\n"
     ]
    }
   ],
   "source": [
    "fans = [\"Usha\", 'Bajaj', \"Crompton\"]\n",
    "s = pd.Series(fans, name = \"fans_company\")\n",
    "\n",
    "print(s)\n",
    "print()\n",
    "\n",
    "#prints the range of the Series\n",
    "print(\"Index Range: \",s.index)"
   ]
  },
  {
   "cell_type": "markdown",
   "metadata": {},
   "source": [
    "* For custom made index, it returns the custom values given as the index"
   ]
  },
  {
   "cell_type": "code",
   "execution_count": 3,
   "metadata": {},
   "outputs": [
    {
     "name": "stdout",
     "output_type": "stream",
     "text": [
      "Blue Berry     234\n",
      "Banana         643\n",
      "Kiwi           256\n",
      "Custurd       2654\n",
      "Name: fruits, dtype: int64\n",
      "\n",
      "Index(['Blue Berry', 'Banana', 'Kiwi', 'Custurd'], dtype='object')\n"
     ]
    }
   ],
   "source": [
    "count = [234,643,256,2654]\n",
    "fruits = [\"Blue Berry\", \"Banana\", \"Kiwi\", \"Custurd\"]\n",
    "\n",
    "s = pd.Series(count, name = 'fruits', index = fruits)\n",
    "\n",
    "print(s)\n",
    "print()\n",
    "print(s.index)"
   ]
  },
  {
   "cell_type": "markdown",
   "metadata": {},
   "source": [
    "---\n",
    "## 3. dtypes attribute\n",
    "* Returns the datatype of the Series column"
   ]
  },
  {
   "cell_type": "code",
   "execution_count": 4,
   "metadata": {},
   "outputs": [
    {
     "name": "stdout",
     "output_type": "stream",
     "text": [
      "object\n"
     ]
    }
   ],
   "source": [
    "fans = [\"Usha\", 'Bajaj', \"Crompton\"]\n",
    "s = pd.Series(fans, name = \"fans_company\")\n",
    "\n",
    "print(s.dtypes) #using dtypes attribute"
   ]
  },
  {
   "cell_type": "markdown",
   "metadata": {},
   "source": [
    "---\n",
    "## 4. size attribute\n",
    "* Returns number of values in Series"
   ]
  },
  {
   "cell_type": "code",
   "execution_count": 5,
   "metadata": {},
   "outputs": [
    {
     "name": "stdout",
     "output_type": "stream",
     "text": [
      "3\n"
     ]
    }
   ],
   "source": [
    "fans = [\"Usha\", 'Bajaj', \"Crompton\"]\n",
    "s = pd.Series(fans, name = \"fans_company\")\n",
    "\n",
    "print(s.size) #using size attribute"
   ]
  }
 ],
 "metadata": {
  "kernelspec": {
   "display_name": "venv",
   "language": "python",
   "name": "python3"
  },
  "language_info": {
   "codemirror_mode": {
    "name": "ipython",
    "version": 3
   },
   "file_extension": ".py",
   "mimetype": "text/x-python",
   "name": "python",
   "nbconvert_exporter": "python",
   "pygments_lexer": "ipython3",
   "version": "3.12.7"
  }
 },
 "nbformat": 4,
 "nbformat_minor": 2
}
