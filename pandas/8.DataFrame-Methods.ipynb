{
 "cells": [
  {
   "cell_type": "markdown",
   "metadata": {},
   "source": [
    "# DataFrame Methods\n",
    "---"
   ]
  },
  {
   "cell_type": "markdown",
   "metadata": {},
   "source": [
    "#### In this notebook we have:\n",
    "* DataFrame Methods:\n",
    "    1. [head()](#1.-head())\n",
    "    2. [tail()](#2-tail)\n",
    "    3. [info()](#3.-info())\n",
    "    4. [count()](#4-count)\n",
    "    5. [describe()](#5-describe)\n",
    "    6. [nunique()](#6-nunique)\n",
    "* [Accessing columns from DataFrame (single col : Series)](#accessing-single-column-from-the-dataframe)\n",
    "* [Rearranging the col of DataFrame](#Rearranging-columns-in-DataFrame)\n",
    "* [Renaming Columns](#Renaming-Columns)\n",
    "    1. using rename(p) method for single col change\n",
    "    2. using rename(p) method for multiple col change\n",
    "    3. using columns attribute\n",
    "* Renaming Index\n",
    "    1. using rename(p) method\n",
    "    2. using index attribute\n",
    "* Bonus!!!\n",
    "---\n"
   ]
  },
  {
   "cell_type": "markdown",
   "metadata": {},
   "source": [
    "## Brief Intro:\n",
    "* DataFrame being a class it has predefined methods in it.\n",
    "* These methods can only be accessed through DataFrame object.\n",
    "* Methods perform operations on DataFrame and returns result."
   ]
  },
  {
   "cell_type": "markdown",
   "metadata": {},
   "source": [
    "---\n",
    "## 1. head()\n",
    "* Returns the first 5 records of the dataset by default.\n",
    "* If we want to preview certain records of the DataFrame from start, then we can add an argument to this head() method."
   ]
  },
  {
   "cell_type": "code",
   "execution_count": 2,
   "metadata": {},
   "outputs": [
    {
     "data": {
      "text/html": [
       "<div>\n",
       "<style scoped>\n",
       "    .dataframe tbody tr th:only-of-type {\n",
       "        vertical-align: middle;\n",
       "    }\n",
       "\n",
       "    .dataframe tbody tr th {\n",
       "        vertical-align: top;\n",
       "    }\n",
       "\n",
       "    .dataframe thead th {\n",
       "        text-align: right;\n",
       "    }\n",
       "</style>\n",
       "<table border=\"1\" class=\"dataframe\">\n",
       "  <thead>\n",
       "    <tr style=\"text-align: right;\">\n",
       "      <th></th>\n",
       "      <th>Order ID</th>\n",
       "      <th>Customer Name</th>\n",
       "      <th>Product</th>\n",
       "      <th>Quantity</th>\n",
       "    </tr>\n",
       "  </thead>\n",
       "  <tbody>\n",
       "    <tr>\n",
       "      <th>0</th>\n",
       "      <td>166837</td>\n",
       "      <td>Veeru</td>\n",
       "      <td>34in Ultrawide Monitor</td>\n",
       "      <td>2</td>\n",
       "    </tr>\n",
       "    <tr>\n",
       "      <th>1</th>\n",
       "      <td>166838</td>\n",
       "      <td>Tarun</td>\n",
       "      <td>Samsung m10</td>\n",
       "      <td>3</td>\n",
       "    </tr>\n",
       "    <tr>\n",
       "      <th>2</th>\n",
       "      <td>166839</td>\n",
       "      <td>Kedar</td>\n",
       "      <td>20in Monitor</td>\n",
       "      <td>1</td>\n",
       "    </tr>\n",
       "    <tr>\n",
       "      <th>3</th>\n",
       "      <td>166840</td>\n",
       "      <td>Lavanya</td>\n",
       "      <td>iPhone 11</td>\n",
       "      <td>3</td>\n",
       "    </tr>\n",
       "    <tr>\n",
       "      <th>4</th>\n",
       "      <td>166841</td>\n",
       "      <td>Venu</td>\n",
       "      <td>Macbook Pro Laptop</td>\n",
       "      <td>2</td>\n",
       "    </tr>\n",
       "  </tbody>\n",
       "</table>\n",
       "</div>"
      ],
      "text/plain": [
       "   Order ID Customer Name                 Product  Quantity\n",
       "0    166837         Veeru  34in Ultrawide Monitor         2\n",
       "1    166838         Tarun             Samsung m10         3\n",
       "2    166839         Kedar            20in Monitor         1\n",
       "3    166840       Lavanya               iPhone 11         3\n",
       "4    166841          Venu      Macbook Pro Laptop         2"
      ]
     },
     "execution_count": 2,
     "metadata": {},
     "output_type": "execute_result"
    }
   ],
   "source": [
    "import pandas as pd\n",
    "\n",
    "path = \"../datasets/sales1.csv\"\n",
    "df = pd.read_csv(path)\n",
    "\n",
    "df.head()"
   ]
  },
  {
   "cell_type": "code",
   "execution_count": 2,
   "metadata": {},
   "outputs": [
    {
     "data": {
      "text/html": [
       "<div>\n",
       "<style scoped>\n",
       "    .dataframe tbody tr th:only-of-type {\n",
       "        vertical-align: middle;\n",
       "    }\n",
       "\n",
       "    .dataframe tbody tr th {\n",
       "        vertical-align: top;\n",
       "    }\n",
       "\n",
       "    .dataframe thead th {\n",
       "        text-align: right;\n",
       "    }\n",
       "</style>\n",
       "<table border=\"1\" class=\"dataframe\">\n",
       "  <thead>\n",
       "    <tr style=\"text-align: right;\">\n",
       "      <th></th>\n",
       "      <th>Order ID</th>\n",
       "      <th>Customer Name</th>\n",
       "      <th>Product</th>\n",
       "      <th>Quantity</th>\n",
       "    </tr>\n",
       "  </thead>\n",
       "  <tbody>\n",
       "    <tr>\n",
       "      <th>0</th>\n",
       "      <td>166837</td>\n",
       "      <td>Veeru</td>\n",
       "      <td>34in Ultrawide Monitor</td>\n",
       "      <td>2</td>\n",
       "    </tr>\n",
       "    <tr>\n",
       "      <th>1</th>\n",
       "      <td>166838</td>\n",
       "      <td>Tarun</td>\n",
       "      <td>Samsung m10</td>\n",
       "      <td>3</td>\n",
       "    </tr>\n",
       "    <tr>\n",
       "      <th>2</th>\n",
       "      <td>166839</td>\n",
       "      <td>Kedar</td>\n",
       "      <td>20in Monitor</td>\n",
       "      <td>1</td>\n",
       "    </tr>\n",
       "    <tr>\n",
       "      <th>3</th>\n",
       "      <td>166840</td>\n",
       "      <td>Lavanya</td>\n",
       "      <td>iPhone 11</td>\n",
       "      <td>3</td>\n",
       "    </tr>\n",
       "    <tr>\n",
       "      <th>4</th>\n",
       "      <td>166841</td>\n",
       "      <td>Venu</td>\n",
       "      <td>Macbook Pro Laptop</td>\n",
       "      <td>2</td>\n",
       "    </tr>\n",
       "    <tr>\n",
       "      <th>5</th>\n",
       "      <td>166842</td>\n",
       "      <td>Venu</td>\n",
       "      <td>Bose SoundSport Headphones</td>\n",
       "      <td>2</td>\n",
       "    </tr>\n",
       "    <tr>\n",
       "      <th>6</th>\n",
       "      <td>166843</td>\n",
       "      <td>Harsha</td>\n",
       "      <td>27in 4K Gaming Monitor</td>\n",
       "      <td>2</td>\n",
       "    </tr>\n",
       "    <tr>\n",
       "      <th>7</th>\n",
       "      <td>166844</td>\n",
       "      <td>Harsha</td>\n",
       "      <td>Samsung m10</td>\n",
       "      <td>1</td>\n",
       "    </tr>\n",
       "    <tr>\n",
       "      <th>8</th>\n",
       "      <td>166845</td>\n",
       "      <td>Siddhu</td>\n",
       "      <td>34in Ultrawide Monitor</td>\n",
       "      <td>2</td>\n",
       "    </tr>\n",
       "    <tr>\n",
       "      <th>9</th>\n",
       "      <td>166846</td>\n",
       "      <td>Siddhu</td>\n",
       "      <td>iPhone 11</td>\n",
       "      <td>1</td>\n",
       "    </tr>\n",
       "  </tbody>\n",
       "</table>\n",
       "</div>"
      ],
      "text/plain": [
       "   Order ID Customer Name                     Product  Quantity\n",
       "0    166837         Veeru      34in Ultrawide Monitor         2\n",
       "1    166838         Tarun                 Samsung m10         3\n",
       "2    166839         Kedar                20in Monitor         1\n",
       "3    166840       Lavanya                   iPhone 11         3\n",
       "4    166841          Venu          Macbook Pro Laptop         2\n",
       "5    166842          Venu  Bose SoundSport Headphones         2\n",
       "6    166843        Harsha      27in 4K Gaming Monitor         2\n",
       "7    166844        Harsha                 Samsung m10         1\n",
       "8    166845        Siddhu      34in Ultrawide Monitor         2\n",
       "9    166846        Siddhu                   iPhone 11         1"
      ]
     },
     "execution_count": 2,
     "metadata": {},
     "output_type": "execute_result"
    }
   ],
   "source": [
    "df.head(10) # Returns first 10 records of the DataFrame"
   ]
  },
  {
   "cell_type": "markdown",
   "metadata": {},
   "source": [
    "---\n",
    "## 2. tail()\n",
    "* Similar to the head() method but returns the last 5 rows as default"
   ]
  },
  {
   "cell_type": "code",
   "execution_count": 3,
   "metadata": {},
   "outputs": [
    {
     "data": {
      "text/html": [
       "<div>\n",
       "<style scoped>\n",
       "    .dataframe tbody tr th:only-of-type {\n",
       "        vertical-align: middle;\n",
       "    }\n",
       "\n",
       "    .dataframe tbody tr th {\n",
       "        vertical-align: top;\n",
       "    }\n",
       "\n",
       "    .dataframe thead th {\n",
       "        text-align: right;\n",
       "    }\n",
       "</style>\n",
       "<table border=\"1\" class=\"dataframe\">\n",
       "  <thead>\n",
       "    <tr style=\"text-align: right;\">\n",
       "      <th></th>\n",
       "      <th>Order ID</th>\n",
       "      <th>Customer Name</th>\n",
       "      <th>Product</th>\n",
       "      <th>Quantity</th>\n",
       "    </tr>\n",
       "  </thead>\n",
       "  <tbody>\n",
       "    <tr>\n",
       "      <th>595</th>\n",
       "      <td>167403</td>\n",
       "      <td>Balaji</td>\n",
       "      <td>Macbook Pro Laptop</td>\n",
       "      <td>1</td>\n",
       "    </tr>\n",
       "    <tr>\n",
       "      <th>596</th>\n",
       "      <td>167404</td>\n",
       "      <td>Lavanya</td>\n",
       "      <td>ThinkPad Laptop</td>\n",
       "      <td>1</td>\n",
       "    </tr>\n",
       "    <tr>\n",
       "      <th>597</th>\n",
       "      <td>167405</td>\n",
       "      <td>Venu</td>\n",
       "      <td>Flatscreen TV</td>\n",
       "      <td>1</td>\n",
       "    </tr>\n",
       "    <tr>\n",
       "      <th>598</th>\n",
       "      <td>167406</td>\n",
       "      <td>Siddhu</td>\n",
       "      <td>Samsung m20</td>\n",
       "      <td>2</td>\n",
       "    </tr>\n",
       "    <tr>\n",
       "      <th>599</th>\n",
       "      <td>167407</td>\n",
       "      <td>Tarun</td>\n",
       "      <td>LG Washing Machine</td>\n",
       "      <td>1</td>\n",
       "    </tr>\n",
       "  </tbody>\n",
       "</table>\n",
       "</div>"
      ],
      "text/plain": [
       "     Order ID Customer Name             Product  Quantity\n",
       "595    167403        Balaji  Macbook Pro Laptop         1\n",
       "596    167404       Lavanya     ThinkPad Laptop         1\n",
       "597    167405          Venu       Flatscreen TV         1\n",
       "598    167406        Siddhu         Samsung m20         2\n",
       "599    167407         Tarun  LG Washing Machine         1"
      ]
     },
     "execution_count": 3,
     "metadata": {},
     "output_type": "execute_result"
    }
   ],
   "source": [
    "df.tail()"
   ]
  },
  {
   "cell_type": "code",
   "execution_count": 4,
   "metadata": {},
   "outputs": [
    {
     "data": {
      "text/html": [
       "<div>\n",
       "<style scoped>\n",
       "    .dataframe tbody tr th:only-of-type {\n",
       "        vertical-align: middle;\n",
       "    }\n",
       "\n",
       "    .dataframe tbody tr th {\n",
       "        vertical-align: top;\n",
       "    }\n",
       "\n",
       "    .dataframe thead th {\n",
       "        text-align: right;\n",
       "    }\n",
       "</style>\n",
       "<table border=\"1\" class=\"dataframe\">\n",
       "  <thead>\n",
       "    <tr style=\"text-align: right;\">\n",
       "      <th></th>\n",
       "      <th>Order ID</th>\n",
       "      <th>Customer Name</th>\n",
       "      <th>Product</th>\n",
       "      <th>Quantity</th>\n",
       "    </tr>\n",
       "  </thead>\n",
       "  <tbody>\n",
       "    <tr>\n",
       "      <th>590</th>\n",
       "      <td>167398</td>\n",
       "      <td>Mallikarjun</td>\n",
       "      <td>iPhone 7s</td>\n",
       "      <td>1</td>\n",
       "    </tr>\n",
       "    <tr>\n",
       "      <th>591</th>\n",
       "      <td>167399</td>\n",
       "      <td>Siddhu</td>\n",
       "      <td>Samsung m10</td>\n",
       "      <td>1</td>\n",
       "    </tr>\n",
       "    <tr>\n",
       "      <th>592</th>\n",
       "      <td>167400</td>\n",
       "      <td>Chaithanya</td>\n",
       "      <td>27in 4K Gaming Monitor</td>\n",
       "      <td>1</td>\n",
       "    </tr>\n",
       "    <tr>\n",
       "      <th>593</th>\n",
       "      <td>167401</td>\n",
       "      <td>Mallikarjun</td>\n",
       "      <td>iPhone 11</td>\n",
       "      <td>1</td>\n",
       "    </tr>\n",
       "    <tr>\n",
       "      <th>594</th>\n",
       "      <td>167402</td>\n",
       "      <td>Kedar</td>\n",
       "      <td>Samsung m10</td>\n",
       "      <td>1</td>\n",
       "    </tr>\n",
       "    <tr>\n",
       "      <th>595</th>\n",
       "      <td>167403</td>\n",
       "      <td>Balaji</td>\n",
       "      <td>Macbook Pro Laptop</td>\n",
       "      <td>1</td>\n",
       "    </tr>\n",
       "    <tr>\n",
       "      <th>596</th>\n",
       "      <td>167404</td>\n",
       "      <td>Lavanya</td>\n",
       "      <td>ThinkPad Laptop</td>\n",
       "      <td>1</td>\n",
       "    </tr>\n",
       "    <tr>\n",
       "      <th>597</th>\n",
       "      <td>167405</td>\n",
       "      <td>Venu</td>\n",
       "      <td>Flatscreen TV</td>\n",
       "      <td>1</td>\n",
       "    </tr>\n",
       "    <tr>\n",
       "      <th>598</th>\n",
       "      <td>167406</td>\n",
       "      <td>Siddhu</td>\n",
       "      <td>Samsung m20</td>\n",
       "      <td>2</td>\n",
       "    </tr>\n",
       "    <tr>\n",
       "      <th>599</th>\n",
       "      <td>167407</td>\n",
       "      <td>Tarun</td>\n",
       "      <td>LG Washing Machine</td>\n",
       "      <td>1</td>\n",
       "    </tr>\n",
       "  </tbody>\n",
       "</table>\n",
       "</div>"
      ],
      "text/plain": [
       "     Order ID Customer Name                 Product  Quantity\n",
       "590    167398   Mallikarjun               iPhone 7s         1\n",
       "591    167399        Siddhu             Samsung m10         1\n",
       "592    167400    Chaithanya  27in 4K Gaming Monitor         1\n",
       "593    167401   Mallikarjun               iPhone 11         1\n",
       "594    167402         Kedar             Samsung m10         1\n",
       "595    167403        Balaji      Macbook Pro Laptop         1\n",
       "596    167404       Lavanya         ThinkPad Laptop         1\n",
       "597    167405          Venu           Flatscreen TV         1\n",
       "598    167406        Siddhu             Samsung m20         2\n",
       "599    167407         Tarun      LG Washing Machine         1"
      ]
     },
     "execution_count": 4,
     "metadata": {},
     "output_type": "execute_result"
    }
   ],
   "source": [
    "df.tail(10)"
   ]
  },
  {
   "cell_type": "markdown",
   "metadata": {},
   "source": [
    "---\n",
    "## 3. info()\n",
    "This method returns below information about DataFrame,\n",
    "* Type of object\n",
    "* Range of object\n",
    "* Number of columns\n",
    "* Number of rows\n",
    "* The data type of each column along with the non-null count\n",
    "* Number of data types\n",
    "* Total memory usage"
   ]
  },
  {
   "cell_type": "code",
   "execution_count": 5,
   "metadata": {},
   "outputs": [
    {
     "name": "stdout",
     "output_type": "stream",
     "text": [
      "<class 'pandas.core.frame.DataFrame'>\n",
      "RangeIndex: 600 entries, 0 to 599\n",
      "Data columns (total 4 columns):\n",
      " #   Column         Non-Null Count  Dtype \n",
      "---  ------         --------------  ----- \n",
      " 0   Order ID       600 non-null    int64 \n",
      " 1   Customer Name  600 non-null    object\n",
      " 2   Product        600 non-null    object\n",
      " 3   Quantity       600 non-null    int64 \n",
      "dtypes: int64(2), object(2)\n",
      "memory usage: 18.9+ KB\n"
     ]
    }
   ],
   "source": [
    "df.info()"
   ]
  },
  {
   "cell_type": "markdown",
   "metadata": {},
   "source": [
    "---\n",
    "## 4. count()\n",
    "* Returns the number of non-null values of each column"
   ]
  },
  {
   "cell_type": "code",
   "execution_count": 6,
   "metadata": {},
   "outputs": [
    {
     "data": {
      "text/plain": [
       "Order ID         600\n",
       "Customer Name    600\n",
       "Product          600\n",
       "Quantity         600\n",
       "dtype: int64"
      ]
     },
     "execution_count": 6,
     "metadata": {},
     "output_type": "execute_result"
    }
   ],
   "source": [
    "df.count()"
   ]
  },
  {
   "cell_type": "markdown",
   "metadata": {},
   "source": [
    "---\n",
    "## 5. describe()\n",
    "* Returns the below values for only numerical datatypes:\n",
    "    * count\n",
    "    * mean \n",
    "    * std\n",
    "    * min\n",
    "    * 25%\n",
    "    * 50%\n",
    "    * 75%\n",
    "    * max"
   ]
  },
  {
   "cell_type": "code",
   "execution_count": 7,
   "metadata": {},
   "outputs": [
    {
     "data": {
      "text/html": [
       "<div>\n",
       "<style scoped>\n",
       "    .dataframe tbody tr th:only-of-type {\n",
       "        vertical-align: middle;\n",
       "    }\n",
       "\n",
       "    .dataframe tbody tr th {\n",
       "        vertical-align: top;\n",
       "    }\n",
       "\n",
       "    .dataframe thead th {\n",
       "        text-align: right;\n",
       "    }\n",
       "</style>\n",
       "<table border=\"1\" class=\"dataframe\">\n",
       "  <thead>\n",
       "    <tr style=\"text-align: right;\">\n",
       "      <th></th>\n",
       "      <th>Order ID</th>\n",
       "      <th>Quantity</th>\n",
       "    </tr>\n",
       "  </thead>\n",
       "  <tbody>\n",
       "    <tr>\n",
       "      <th>count</th>\n",
       "      <td>600.000000</td>\n",
       "      <td>600.000000</td>\n",
       "    </tr>\n",
       "    <tr>\n",
       "      <th>mean</th>\n",
       "      <td>167122.751667</td>\n",
       "      <td>1.481667</td>\n",
       "    </tr>\n",
       "    <tr>\n",
       "      <th>std</th>\n",
       "      <td>164.948568</td>\n",
       "      <td>0.683454</td>\n",
       "    </tr>\n",
       "    <tr>\n",
       "      <th>min</th>\n",
       "      <td>166837.000000</td>\n",
       "      <td>1.000000</td>\n",
       "    </tr>\n",
       "    <tr>\n",
       "      <th>25%</th>\n",
       "      <td>166980.750000</td>\n",
       "      <td>1.000000</td>\n",
       "    </tr>\n",
       "    <tr>\n",
       "      <th>50%</th>\n",
       "      <td>167120.500000</td>\n",
       "      <td>1.000000</td>\n",
       "    </tr>\n",
       "    <tr>\n",
       "      <th>75%</th>\n",
       "      <td>167266.250000</td>\n",
       "      <td>2.000000</td>\n",
       "    </tr>\n",
       "    <tr>\n",
       "      <th>max</th>\n",
       "      <td>167409.000000</td>\n",
       "      <td>3.000000</td>\n",
       "    </tr>\n",
       "  </tbody>\n",
       "</table>\n",
       "</div>"
      ],
      "text/plain": [
       "            Order ID    Quantity\n",
       "count     600.000000  600.000000\n",
       "mean   167122.751667    1.481667\n",
       "std       164.948568    0.683454\n",
       "min    166837.000000    1.000000\n",
       "25%    166980.750000    1.000000\n",
       "50%    167120.500000    1.000000\n",
       "75%    167266.250000    2.000000\n",
       "max    167409.000000    3.000000"
      ]
     },
     "execution_count": 7,
     "metadata": {},
     "output_type": "execute_result"
    }
   ],
   "source": [
    "df.describe()"
   ]
  },
  {
   "cell_type": "markdown",
   "metadata": {},
   "source": [
    "---\n",
    "## 6. nunique() \n",
    "* Returns the number of unique values of each column of the DataFrame."
   ]
  },
  {
   "cell_type": "code",
   "execution_count": 8,
   "metadata": {},
   "outputs": [
    {
     "data": {
      "text/plain": [
       "Order ID         573\n",
       "Customer Name     23\n",
       "Product           21\n",
       "Quantity           3\n",
       "dtype: int64"
      ]
     },
     "execution_count": 8,
     "metadata": {},
     "output_type": "execute_result"
    }
   ],
   "source": [
    "df.nunique()"
   ]
  },
  {
   "cell_type": "code",
   "execution_count": 9,
   "metadata": {},
   "outputs": [
    {
     "name": "stdout",
     "output_type": "stream",
     "text": [
      "573\n"
     ]
    }
   ],
   "source": [
    "print(df.nunique().iloc[0]) "
   ]
  },
  {
   "cell_type": "code",
   "execution_count": 10,
   "metadata": {},
   "outputs": [
    {
     "name": "stdout",
     "output_type": "stream",
     "text": [
      "23\n"
     ]
    }
   ],
   "source": [
    "print(df.nunique()['Customer Name'])"
   ]
  },
  {
   "cell_type": "markdown",
   "metadata": {},
   "source": [
    "---\n",
    "## Accessing single column from the DataFrame\n",
    "* If we try to access a single column out of the DataFrame then that returns a Series.\n",
    "* If we access 2 or more columns out of the DataFrame , then that returns a DataFrame"
   ]
  },
  {
   "cell_type": "code",
   "execution_count": 11,
   "metadata": {},
   "outputs": [
    {
     "name": "stdout",
     "output_type": "stream",
     "text": [
      "<class 'pandas.core.series.Series'>\n",
      "\n",
      "<class 'pandas.core.series.Series'>\n"
     ]
    }
   ],
   "source": [
    "# Accessing a single columns\n",
    "\n",
    "print(type(df.Quantity))\n",
    "print()\n",
    "print(type(df['Quantity']))\n"
   ]
  },
  {
   "cell_type": "code",
   "execution_count": 12,
   "metadata": {},
   "outputs": [
    {
     "name": "stdout",
     "output_type": "stream",
     "text": [
      "     Order ID  Quantity\n",
      "0      166837         2\n",
      "1      166838         3\n",
      "2      166839         1\n",
      "3      166840         3\n",
      "4      166841         2\n",
      "..        ...       ...\n",
      "595    167403         1\n",
      "596    167404         1\n",
      "597    167405         1\n",
      "598    167406         2\n",
      "599    167407         1\n",
      "\n",
      "[600 rows x 2 columns]\n"
     ]
    }
   ],
   "source": [
    "# Accessing 2 or more columns\n",
    "\n",
    "print(df[['Order ID', 'Quantity']])"
   ]
  },
  {
   "cell_type": "markdown",
   "metadata": {},
   "source": [
    "---\n",
    "## Rearranging columns in DataFrame"
   ]
  },
  {
   "cell_type": "code",
   "execution_count": 13,
   "metadata": {},
   "outputs": [
    {
     "name": "stdout",
     "output_type": "stream",
     "text": [
      "Index(['Order ID', 'Customer Name', 'Product', 'Quantity'], dtype='object')\n",
      "\n",
      "Index(['Product', 'Customer Name', 'Quantity', 'Order ID'], dtype='object')\n"
     ]
    }
   ],
   "source": [
    "print(df.columns)\n",
    "df = df[[\"Product\", \"Customer Name\", \"Quantity\", \"Order ID\"]]\n",
    "print()\n",
    "print(df.columns)"
   ]
  },
  {
   "cell_type": "markdown",
   "metadata": {},
   "source": [
    "---"
   ]
  },
  {
   "cell_type": "markdown",
   "metadata": {},
   "source": [
    "\n",
    "## Renaming Columns"
   ]
  },
  {
   "cell_type": "markdown",
   "metadata": {},
   "source": [
    "### rename(p) method - for changing single col name"
   ]
  },
  {
   "cell_type": "code",
   "execution_count": 3,
   "metadata": {},
   "outputs": [],
   "source": [
    "df = pd.read_csv(\"../datasets/sales3.csv\")"
   ]
  },
  {
   "cell_type": "code",
   "execution_count": 4,
   "metadata": {},
   "outputs": [
    {
     "data": {
      "text/html": [
       "<div>\n",
       "<style scoped>\n",
       "    .dataframe tbody tr th:only-of-type {\n",
       "        vertical-align: middle;\n",
       "    }\n",
       "\n",
       "    .dataframe tbody tr th {\n",
       "        vertical-align: top;\n",
       "    }\n",
       "\n",
       "    .dataframe thead th {\n",
       "        text-align: right;\n",
       "    }\n",
       "</style>\n",
       "<table border=\"1\" class=\"dataframe\">\n",
       "  <thead>\n",
       "    <tr style=\"text-align: right;\">\n",
       "      <th></th>\n",
       "      <th>ord id</th>\n",
       "      <th>cust name</th>\n",
       "      <th>cust id</th>\n",
       "      <th>prod name</th>\n",
       "      <th>prod cost</th>\n",
       "    </tr>\n",
       "  </thead>\n",
       "  <tbody>\n",
       "    <tr>\n",
       "      <th>0</th>\n",
       "      <td>192837</td>\n",
       "      <td>Veeru</td>\n",
       "      <td>3</td>\n",
       "      <td>LG Mobile</td>\n",
       "      <td>65999</td>\n",
       "    </tr>\n",
       "    <tr>\n",
       "      <th>1</th>\n",
       "      <td>192838</td>\n",
       "      <td>Neelima</td>\n",
       "      <td>19</td>\n",
       "      <td>Apple iPad 10.2-inch</td>\n",
       "      <td>63000</td>\n",
       "    </tr>\n",
       "    <tr>\n",
       "      <th>2</th>\n",
       "      <td>192839</td>\n",
       "      <td>Balaji</td>\n",
       "      <td>12</td>\n",
       "      <td>34in Ultrawide Monitor</td>\n",
       "      <td>75999</td>\n",
       "    </tr>\n",
       "    <tr>\n",
       "      <th>3</th>\n",
       "      <td>192840</td>\n",
       "      <td>Shahid</td>\n",
       "      <td>20</td>\n",
       "      <td>iPhone 11</td>\n",
       "      <td>60000</td>\n",
       "    </tr>\n",
       "    <tr>\n",
       "      <th>4</th>\n",
       "      <td>192841</td>\n",
       "      <td>Vinay</td>\n",
       "      <td>10</td>\n",
       "      <td>Bose SoundSport Headphones</td>\n",
       "      <td>69999</td>\n",
       "    </tr>\n",
       "  </tbody>\n",
       "</table>\n",
       "</div>"
      ],
      "text/plain": [
       "   ord id cust name  cust id                   prod name  prod cost\n",
       "0  192837     Veeru        3                   LG Mobile      65999\n",
       "1  192838   Neelima       19        Apple iPad 10.2-inch      63000\n",
       "2  192839    Balaji       12      34in Ultrawide Monitor      75999\n",
       "3  192840    Shahid       20                   iPhone 11      60000\n",
       "4  192841     Vinay       10  Bose SoundSport Headphones      69999"
      ]
     },
     "execution_count": 4,
     "metadata": {},
     "output_type": "execute_result"
    }
   ],
   "source": [
    "df.head()"
   ]
  },
  {
   "cell_type": "code",
   "execution_count": 5,
   "metadata": {},
   "outputs": [
    {
     "data": {
      "text/plain": [
       "Index(['ord id', 'cust name', 'cust id', 'prod name', 'prod cost'], dtype='object')"
      ]
     },
     "execution_count": 5,
     "metadata": {},
     "output_type": "execute_result"
    }
   ],
   "source": [
    "df.columns"
   ]
  },
  {
   "cell_type": "code",
   "execution_count": 6,
   "metadata": {},
   "outputs": [],
   "source": [
    "d = {\n",
    " \"ord id\": \"Order Id\"\n",
    "}\n",
    "df1 = df.rename(columns = d)"
   ]
  },
  {
   "cell_type": "code",
   "execution_count": 8,
   "metadata": {},
   "outputs": [
    {
     "data": {
      "text/plain": [
       "Index(['Order Id', 'cust name', 'cust id', 'prod name', 'prod cost'], dtype='object')"
      ]
     },
     "execution_count": 8,
     "metadata": {},
     "output_type": "execute_result"
    }
   ],
   "source": [
    "df1.columns"
   ]
  },
  {
   "cell_type": "markdown",
   "metadata": {},
   "source": [
    "here the 'ord id' has changed to 'Order Id'"
   ]
  },
  {
   "cell_type": "markdown",
   "metadata": {},
   "source": [
    "---"
   ]
  },
  {
   "cell_type": "markdown",
   "metadata": {},
   "source": [
    "### rename(p) method - Changing multiple column names"
   ]
  },
  {
   "cell_type": "code",
   "execution_count": 9,
   "metadata": {},
   "outputs": [],
   "source": [
    "d = {\n",
    " 'ord id': 'Order Id', \n",
    " 'cust name': 'Customer Name', \n",
    " 'cust id': 'Customer Id', \n",
    " 'prod name': 'Product Name', \n",
    " 'prod cost': 'Product Cost'\n",
    "}\n",
    "df2 = df.rename(columns = d)"
   ]
  },
  {
   "cell_type": "code",
   "execution_count": 10,
   "metadata": {},
   "outputs": [
    {
     "data": {
      "text/plain": [
       "Index(['Order Id', 'Customer Name', 'Customer Id', 'Product Name',\n",
       "       'Product Cost'],\n",
       "      dtype='object')"
      ]
     },
     "execution_count": 10,
     "metadata": {},
     "output_type": "execute_result"
    }
   ],
   "source": [
    "df2.columns"
   ]
  },
  {
   "cell_type": "markdown",
   "metadata": {},
   "source": [
    "here all column names have changed"
   ]
  },
  {
   "cell_type": "markdown",
   "metadata": {},
   "source": [
    "---\n",
    "### columns attribute - Changing multiple column names\n",
    "* We can directly change the column names with columns  attribute"
   ]
  },
  {
   "cell_type": "code",
   "execution_count": 11,
   "metadata": {},
   "outputs": [],
   "source": [
    "df.columns = [\n",
    " \"order_id\", \n",
    " \"customer_name\", \n",
    " \"customer_id\", \n",
    " \"product_name\", \n",
    " \"product_cost\"\n",
    "]"
   ]
  },
  {
   "cell_type": "code",
   "execution_count": 12,
   "metadata": {},
   "outputs": [
    {
     "data": {
      "text/plain": [
       "Index(['order_id', 'customer_name', 'customer_id', 'product_name',\n",
       "       'product_cost'],\n",
       "      dtype='object')"
      ]
     },
     "execution_count": 12,
     "metadata": {},
     "output_type": "execute_result"
    }
   ],
   "source": [
    "df.columns"
   ]
  },
  {
   "cell_type": "markdown",
   "metadata": {},
   "source": [
    "* Here the column values should match the existing column names.. for consistency.\n",
    "* Otherwise the column names will get mismatched.\n",
    "* Also the number of columns should match the existing ones."
   ]
  },
  {
   "cell_type": "markdown",
   "metadata": {},
   "source": [
    "---\n",
    "## Renaming Index"
   ]
  },
  {
   "cell_type": "markdown",
   "metadata": {},
   "source": [
    "### rename(p) - Change the Index values in DataFrame"
   ]
  },
  {
   "cell_type": "code",
   "execution_count": 15,
   "metadata": {},
   "outputs": [
    {
     "data": {
      "text/html": [
       "<div>\n",
       "<style scoped>\n",
       "    .dataframe tbody tr th:only-of-type {\n",
       "        vertical-align: middle;\n",
       "    }\n",
       "\n",
       "    .dataframe tbody tr th {\n",
       "        vertical-align: top;\n",
       "    }\n",
       "\n",
       "    .dataframe thead th {\n",
       "        text-align: right;\n",
       "    }\n",
       "</style>\n",
       "<table border=\"1\" class=\"dataframe\">\n",
       "  <thead>\n",
       "    <tr style=\"text-align: right;\">\n",
       "      <th></th>\n",
       "      <th>order_id</th>\n",
       "      <th>customer_name</th>\n",
       "      <th>customer_id</th>\n",
       "      <th>product_name</th>\n",
       "      <th>product_cost</th>\n",
       "    </tr>\n",
       "  </thead>\n",
       "  <tbody>\n",
       "    <tr>\n",
       "      <th>0</th>\n",
       "      <td>192837</td>\n",
       "      <td>Veeru</td>\n",
       "      <td>3</td>\n",
       "      <td>LG Mobile</td>\n",
       "      <td>65999</td>\n",
       "    </tr>\n",
       "    <tr>\n",
       "      <th>1</th>\n",
       "      <td>192838</td>\n",
       "      <td>Neelima</td>\n",
       "      <td>19</td>\n",
       "      <td>Apple iPad 10.2-inch</td>\n",
       "      <td>63000</td>\n",
       "    </tr>\n",
       "    <tr>\n",
       "      <th>2</th>\n",
       "      <td>192839</td>\n",
       "      <td>Balaji</td>\n",
       "      <td>12</td>\n",
       "      <td>34in Ultrawide Monitor</td>\n",
       "      <td>75999</td>\n",
       "    </tr>\n",
       "    <tr>\n",
       "      <th>3</th>\n",
       "      <td>192840</td>\n",
       "      <td>Shahid</td>\n",
       "      <td>20</td>\n",
       "      <td>iPhone 11</td>\n",
       "      <td>60000</td>\n",
       "    </tr>\n",
       "    <tr>\n",
       "      <th>4</th>\n",
       "      <td>192841</td>\n",
       "      <td>Vinay</td>\n",
       "      <td>10</td>\n",
       "      <td>Bose SoundSport Headphones</td>\n",
       "      <td>69999</td>\n",
       "    </tr>\n",
       "  </tbody>\n",
       "</table>\n",
       "</div>"
      ],
      "text/plain": [
       "   order_id customer_name  customer_id                product_name  \\\n",
       "0    192837         Veeru            3                   LG Mobile   \n",
       "1    192838       Neelima           19        Apple iPad 10.2-inch   \n",
       "2    192839        Balaji           12      34in Ultrawide Monitor   \n",
       "3    192840        Shahid           20                   iPhone 11   \n",
       "4    192841         Vinay           10  Bose SoundSport Headphones   \n",
       "\n",
       "   product_cost  \n",
       "0         65999  \n",
       "1         63000  \n",
       "2         75999  \n",
       "3         60000  \n",
       "4         69999  "
      ]
     },
     "execution_count": 15,
     "metadata": {},
     "output_type": "execute_result"
    }
   ],
   "source": [
    "df.head()"
   ]
  },
  {
   "cell_type": "code",
   "execution_count": 21,
   "metadata": {},
   "outputs": [],
   "source": [
    "count = 77\n",
    "index = {}\n",
    "for i in range(len(df)):\n",
    "    index[i] = count \n",
    "    count += 1\n",
    "\n",
    "df1 = df.rename(index = index)"
   ]
  },
  {
   "cell_type": "code",
   "execution_count": 22,
   "metadata": {},
   "outputs": [
    {
     "data": {
      "text/html": [
       "<div>\n",
       "<style scoped>\n",
       "    .dataframe tbody tr th:only-of-type {\n",
       "        vertical-align: middle;\n",
       "    }\n",
       "\n",
       "    .dataframe tbody tr th {\n",
       "        vertical-align: top;\n",
       "    }\n",
       "\n",
       "    .dataframe thead th {\n",
       "        text-align: right;\n",
       "    }\n",
       "</style>\n",
       "<table border=\"1\" class=\"dataframe\">\n",
       "  <thead>\n",
       "    <tr style=\"text-align: right;\">\n",
       "      <th></th>\n",
       "      <th>order_id</th>\n",
       "      <th>customer_name</th>\n",
       "      <th>customer_id</th>\n",
       "      <th>product_name</th>\n",
       "      <th>product_cost</th>\n",
       "    </tr>\n",
       "  </thead>\n",
       "  <tbody>\n",
       "    <tr>\n",
       "      <th>77</th>\n",
       "      <td>192837</td>\n",
       "      <td>Veeru</td>\n",
       "      <td>3</td>\n",
       "      <td>LG Mobile</td>\n",
       "      <td>65999</td>\n",
       "    </tr>\n",
       "    <tr>\n",
       "      <th>78</th>\n",
       "      <td>192838</td>\n",
       "      <td>Neelima</td>\n",
       "      <td>19</td>\n",
       "      <td>Apple iPad 10.2-inch</td>\n",
       "      <td>63000</td>\n",
       "    </tr>\n",
       "    <tr>\n",
       "      <th>79</th>\n",
       "      <td>192839</td>\n",
       "      <td>Balaji</td>\n",
       "      <td>12</td>\n",
       "      <td>34in Ultrawide Monitor</td>\n",
       "      <td>75999</td>\n",
       "    </tr>\n",
       "    <tr>\n",
       "      <th>80</th>\n",
       "      <td>192840</td>\n",
       "      <td>Shahid</td>\n",
       "      <td>20</td>\n",
       "      <td>iPhone 11</td>\n",
       "      <td>60000</td>\n",
       "    </tr>\n",
       "    <tr>\n",
       "      <th>81</th>\n",
       "      <td>192841</td>\n",
       "      <td>Vinay</td>\n",
       "      <td>10</td>\n",
       "      <td>Bose SoundSport Headphones</td>\n",
       "      <td>69999</td>\n",
       "    </tr>\n",
       "  </tbody>\n",
       "</table>\n",
       "</div>"
      ],
      "text/plain": [
       "    order_id customer_name  customer_id                product_name  \\\n",
       "77    192837         Veeru            3                   LG Mobile   \n",
       "78    192838       Neelima           19        Apple iPad 10.2-inch   \n",
       "79    192839        Balaji           12      34in Ultrawide Monitor   \n",
       "80    192840        Shahid           20                   iPhone 11   \n",
       "81    192841         Vinay           10  Bose SoundSport Headphones   \n",
       "\n",
       "    product_cost  \n",
       "77         65999  \n",
       "78         63000  \n",
       "79         75999  \n",
       "80         60000  \n",
       "81         69999  "
      ]
     },
     "execution_count": 22,
     "metadata": {},
     "output_type": "execute_result"
    }
   ],
   "source": [
    "df1.head()"
   ]
  },
  {
   "cell_type": "markdown",
   "metadata": {},
   "source": [
    "---\n",
    "### index attribute - Change the index of the DataFrame records"
   ]
  },
  {
   "cell_type": "markdown",
   "metadata": {},
   "source": [
    "using list comprehension"
   ]
  },
  {
   "cell_type": "code",
   "execution_count": 29,
   "metadata": {},
   "outputs": [],
   "source": [
    "df.index = [i  for i in range(77,77+len(df))]"
   ]
  },
  {
   "cell_type": "code",
   "execution_count": 30,
   "metadata": {},
   "outputs": [
    {
     "data": {
      "text/html": [
       "<div>\n",
       "<style scoped>\n",
       "    .dataframe tbody tr th:only-of-type {\n",
       "        vertical-align: middle;\n",
       "    }\n",
       "\n",
       "    .dataframe tbody tr th {\n",
       "        vertical-align: top;\n",
       "    }\n",
       "\n",
       "    .dataframe thead th {\n",
       "        text-align: right;\n",
       "    }\n",
       "</style>\n",
       "<table border=\"1\" class=\"dataframe\">\n",
       "  <thead>\n",
       "    <tr style=\"text-align: right;\">\n",
       "      <th></th>\n",
       "      <th>order_id</th>\n",
       "      <th>customer_name</th>\n",
       "      <th>customer_id</th>\n",
       "      <th>product_name</th>\n",
       "      <th>product_cost</th>\n",
       "    </tr>\n",
       "  </thead>\n",
       "  <tbody>\n",
       "    <tr>\n",
       "      <th>77</th>\n",
       "      <td>192837</td>\n",
       "      <td>Veeru</td>\n",
       "      <td>3</td>\n",
       "      <td>LG Mobile</td>\n",
       "      <td>65999</td>\n",
       "    </tr>\n",
       "    <tr>\n",
       "      <th>78</th>\n",
       "      <td>192838</td>\n",
       "      <td>Neelima</td>\n",
       "      <td>19</td>\n",
       "      <td>Apple iPad 10.2-inch</td>\n",
       "      <td>63000</td>\n",
       "    </tr>\n",
       "    <tr>\n",
       "      <th>79</th>\n",
       "      <td>192839</td>\n",
       "      <td>Balaji</td>\n",
       "      <td>12</td>\n",
       "      <td>34in Ultrawide Monitor</td>\n",
       "      <td>75999</td>\n",
       "    </tr>\n",
       "    <tr>\n",
       "      <th>80</th>\n",
       "      <td>192840</td>\n",
       "      <td>Shahid</td>\n",
       "      <td>20</td>\n",
       "      <td>iPhone 11</td>\n",
       "      <td>60000</td>\n",
       "    </tr>\n",
       "    <tr>\n",
       "      <th>81</th>\n",
       "      <td>192841</td>\n",
       "      <td>Vinay</td>\n",
       "      <td>10</td>\n",
       "      <td>Bose SoundSport Headphones</td>\n",
       "      <td>69999</td>\n",
       "    </tr>\n",
       "  </tbody>\n",
       "</table>\n",
       "</div>"
      ],
      "text/plain": [
       "    order_id customer_name  customer_id                product_name  \\\n",
       "77    192837         Veeru            3                   LG Mobile   \n",
       "78    192838       Neelima           19        Apple iPad 10.2-inch   \n",
       "79    192839        Balaji           12      34in Ultrawide Monitor   \n",
       "80    192840        Shahid           20                   iPhone 11   \n",
       "81    192841         Vinay           10  Bose SoundSport Headphones   \n",
       "\n",
       "    product_cost  \n",
       "77         65999  \n",
       "78         63000  \n",
       "79         75999  \n",
       "80         60000  \n",
       "81         69999  "
      ]
     },
     "execution_count": 30,
     "metadata": {},
     "output_type": "execute_result"
    }
   ],
   "source": [
    "df.head()"
   ]
  },
  {
   "cell_type": "markdown",
   "metadata": {},
   "source": [
    "using range() function"
   ]
  },
  {
   "cell_type": "code",
   "execution_count": 31,
   "metadata": {},
   "outputs": [],
   "source": [
    "df.index = range(77,77+len(df))"
   ]
  },
  {
   "cell_type": "code",
   "execution_count": 32,
   "metadata": {},
   "outputs": [
    {
     "data": {
      "text/html": [
       "<div>\n",
       "<style scoped>\n",
       "    .dataframe tbody tr th:only-of-type {\n",
       "        vertical-align: middle;\n",
       "    }\n",
       "\n",
       "    .dataframe tbody tr th {\n",
       "        vertical-align: top;\n",
       "    }\n",
       "\n",
       "    .dataframe thead th {\n",
       "        text-align: right;\n",
       "    }\n",
       "</style>\n",
       "<table border=\"1\" class=\"dataframe\">\n",
       "  <thead>\n",
       "    <tr style=\"text-align: right;\">\n",
       "      <th></th>\n",
       "      <th>order_id</th>\n",
       "      <th>customer_name</th>\n",
       "      <th>customer_id</th>\n",
       "      <th>product_name</th>\n",
       "      <th>product_cost</th>\n",
       "    </tr>\n",
       "  </thead>\n",
       "  <tbody>\n",
       "    <tr>\n",
       "      <th>77</th>\n",
       "      <td>192837</td>\n",
       "      <td>Veeru</td>\n",
       "      <td>3</td>\n",
       "      <td>LG Mobile</td>\n",
       "      <td>65999</td>\n",
       "    </tr>\n",
       "    <tr>\n",
       "      <th>78</th>\n",
       "      <td>192838</td>\n",
       "      <td>Neelima</td>\n",
       "      <td>19</td>\n",
       "      <td>Apple iPad 10.2-inch</td>\n",
       "      <td>63000</td>\n",
       "    </tr>\n",
       "    <tr>\n",
       "      <th>79</th>\n",
       "      <td>192839</td>\n",
       "      <td>Balaji</td>\n",
       "      <td>12</td>\n",
       "      <td>34in Ultrawide Monitor</td>\n",
       "      <td>75999</td>\n",
       "    </tr>\n",
       "    <tr>\n",
       "      <th>80</th>\n",
       "      <td>192840</td>\n",
       "      <td>Shahid</td>\n",
       "      <td>20</td>\n",
       "      <td>iPhone 11</td>\n",
       "      <td>60000</td>\n",
       "    </tr>\n",
       "    <tr>\n",
       "      <th>81</th>\n",
       "      <td>192841</td>\n",
       "      <td>Vinay</td>\n",
       "      <td>10</td>\n",
       "      <td>Bose SoundSport Headphones</td>\n",
       "      <td>69999</td>\n",
       "    </tr>\n",
       "  </tbody>\n",
       "</table>\n",
       "</div>"
      ],
      "text/plain": [
       "    order_id customer_name  customer_id                product_name  \\\n",
       "77    192837         Veeru            3                   LG Mobile   \n",
       "78    192838       Neelima           19        Apple iPad 10.2-inch   \n",
       "79    192839        Balaji           12      34in Ultrawide Monitor   \n",
       "80    192840        Shahid           20                   iPhone 11   \n",
       "81    192841         Vinay           10  Bose SoundSport Headphones   \n",
       "\n",
       "    product_cost  \n",
       "77         65999  \n",
       "78         63000  \n",
       "79         75999  \n",
       "80         60000  \n",
       "81         69999  "
      ]
     },
     "execution_count": 32,
     "metadata": {},
     "output_type": "execute_result"
    }
   ],
   "source": [
    "df.head()"
   ]
  },
  {
   "cell_type": "markdown",
   "metadata": {},
   "source": [
    "---"
   ]
  },
  {
   "cell_type": "markdown",
   "metadata": {},
   "source": [
    "## Bonus"
   ]
  },
  {
   "cell_type": "markdown",
   "metadata": {},
   "source": [
    "### Convert column names to upper/lower case in DataFrame"
   ]
  },
  {
   "cell_type": "code",
   "execution_count": 40,
   "metadata": {},
   "outputs": [
    {
     "data": {
      "text/plain": [
       "Index(['order_id', 'customer_name', 'customer_id', 'product_name',\n",
       "       'product_cost'],\n",
       "      dtype='object')"
      ]
     },
     "execution_count": 40,
     "metadata": {},
     "output_type": "execute_result"
    }
   ],
   "source": [
    "df.columns"
   ]
  },
  {
   "cell_type": "code",
   "execution_count": 41,
   "metadata": {},
   "outputs": [
    {
     "data": {
      "text/plain": [
       "Index(['ORDER_ID', 'CUSTOMER_NAME', 'CUSTOMER_ID', 'PRODUCT_NAME',\n",
       "       'PRODUCT_COST'],\n",
       "      dtype='object')"
      ]
     },
     "execution_count": 41,
     "metadata": {},
     "output_type": "execute_result"
    }
   ],
   "source": [
    "df.columns.str.upper()"
   ]
  },
  {
   "cell_type": "markdown",
   "metadata": {},
   "source": [
    "---"
   ]
  },
  {
   "cell_type": "markdown",
   "metadata": {},
   "source": [
    "Thank You!! \\\n",
    "Happy Learning :)"
   ]
  },
  {
   "cell_type": "markdown",
   "metadata": {},
   "source": [
    "---"
   ]
  }
 ],
 "metadata": {
  "kernelspec": {
   "display_name": "venv",
   "language": "python",
   "name": "python3"
  },
  "language_info": {
   "codemirror_mode": {
    "name": "ipython",
    "version": 3
   },
   "file_extension": ".py",
   "mimetype": "text/x-python",
   "name": "python",
   "nbconvert_exporter": "python",
   "pygments_lexer": "ipython3",
   "version": "3.12.7"
  }
 },
 "nbformat": 4,
 "nbformat_minor": 2
}
