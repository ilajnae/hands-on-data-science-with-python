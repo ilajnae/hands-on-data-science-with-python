{
 "cells": [
  {
   "cell_type": "markdown",
   "metadata": {},
   "source": [
    "# DataFrame Attributes\n",
    "---"
   ]
  },
  {
   "cell_type": "markdown",
   "metadata": {},
   "source": [
    "#### In this notebook we have:\n",
    "1. len(p) function\n",
    "2. columns attribute\n",
    "3. shape attribute\n",
    "4. size attribute\n",
    "5. dtypes attribute\n",
    "6. empty attribute\n",
    "7. index attribute\n",
    "8. values attribute\n",
    "9. T attribute"
   ]
  },
  {
   "cell_type": "markdown",
   "metadata": {},
   "source": [
    "---\n",
    "## DataFrame Attributes brief intro:\n",
    "* There are attributes that are predefined in the DataFrame class.\n",
    "* We can access these attributes through DataFrame object only.\n",
    "* DataFrame Attributes return information about the DataFrame object.\n",
    "---"
   ]
  },
  {
   "cell_type": "markdown",
   "metadata": {},
   "source": [
    "## 1. len(p) function\n",
    "* To check the length of the DataFrame.\n",
    "* Returns the total number of records/rows present in the DataFrame.\n",
    "* Takes DataFrame object as the parameter."
   ]
  },
  {
   "cell_type": "code",
   "execution_count": 2,
   "metadata": {},
   "outputs": [
    {
     "name": "stdout",
     "output_type": "stream",
     "text": [
      "Length of the DataFrame is: 600\n"
     ]
    }
   ],
   "source": [
    "import pandas as pd\n",
    "\n",
    "path = \"../datasets/sales1.csv\"\n",
    "df = pd.read_csv(path)\n",
    "\n",
    "print(f\"Length of the DataFrame is: {len(df)}\")"
   ]
  },
  {
   "cell_type": "markdown",
   "metadata": {},
   "source": [
    "---\n",
    "## 2. columns attribute\n",
    "* Returns all column names present in the DataFrame.\n"
   ]
  },
  {
   "cell_type": "code",
   "execution_count": 3,
   "metadata": {},
   "outputs": [
    {
     "data": {
      "text/plain": [
       "Index(['Order ID', 'Customer Name', 'Product', 'Quantity'], dtype='object')"
      ]
     },
     "execution_count": 3,
     "metadata": {},
     "output_type": "execute_result"
    }
   ],
   "source": [
    "df.columns"
   ]
  },
  {
   "cell_type": "code",
   "execution_count": 4,
   "metadata": {},
   "outputs": [
    {
     "name": "stdout",
     "output_type": "stream",
     "text": [
      "Order ID\n",
      "Customer Name\n",
      "Product\n",
      "Quantity\n"
     ]
    }
   ],
   "source": [
    "for col in df.columns:\n",
    "    print(col)"
   ]
  },
  {
   "cell_type": "markdown",
   "metadata": {},
   "source": [
    "---\n",
    "## 3. shape attribute\n",
    "* Returns the tuple having total number of rows and columns of that DataFrame.\n",
    "* Format: (row_value, col_value)"
   ]
  },
  {
   "cell_type": "code",
   "execution_count": 7,
   "metadata": {},
   "outputs": [
    {
     "data": {
      "text/plain": [
       "(600, 4)"
      ]
     },
     "execution_count": 7,
     "metadata": {},
     "output_type": "execute_result"
    }
   ],
   "source": [
    "df.shape"
   ]
  },
  {
   "cell_type": "code",
   "execution_count": 8,
   "metadata": {},
   "outputs": [
    {
     "name": "stdout",
     "output_type": "stream",
     "text": [
      "Number of Rows: 600\n",
      "Number of Columns: 4\n"
     ]
    }
   ],
   "source": [
    "print(f\"Number of Rows: {df.shape[0]}\")\n",
    "print(f\"Number of Columns: {df.shape[1]}\")"
   ]
  },
  {
   "cell_type": "markdown",
   "metadata": {},
   "source": [
    "---\n",
    "## 4. size attribute\n",
    "* Returns the total number of values in the DataFrame.\n",
    "* Calculated by: `size = number of rows * number of columns`"
   ]
  },
  {
   "cell_type": "code",
   "execution_count": 10,
   "metadata": {},
   "outputs": [
    {
     "name": "stdout",
     "output_type": "stream",
     "text": [
      "Size of the DataFrame is 2400\n"
     ]
    }
   ],
   "source": [
    "print(f\"Size of the DataFrame is {df.size}\")"
   ]
  },
  {
   "cell_type": "markdown",
   "metadata": {},
   "source": [
    "---\n",
    "## 5. dtypes attribute\n",
    "* Returns the data type of each column of the DataFrame"
   ]
  },
  {
   "cell_type": "code",
   "execution_count": 11,
   "metadata": {},
   "outputs": [
    {
     "data": {
      "text/plain": [
       "Order ID          int64\n",
       "Customer Name    object\n",
       "Product          object\n",
       "Quantity          int64\n",
       "dtype: object"
      ]
     },
     "execution_count": 11,
     "metadata": {},
     "output_type": "execute_result"
    }
   ],
   "source": [
    "df.dtypes"
   ]
  },
  {
   "cell_type": "markdown",
   "metadata": {},
   "source": [
    "---\n",
    "## 6. empty attribute\n",
    "* Just checks whether the DataFrame is empty or not.\n",
    "* If empty returns `True` else `False`."
   ]
  },
  {
   "cell_type": "code",
   "execution_count": 14,
   "metadata": {},
   "outputs": [
    {
     "data": {
      "text/plain": [
       "False"
      ]
     },
     "execution_count": 14,
     "metadata": {},
     "output_type": "execute_result"
    }
   ],
   "source": [
    "#Returns False since we have sales1 data in DataFrame.\n",
    "df.empty "
   ]
  },
  {
   "cell_type": "code",
   "execution_count": 15,
   "metadata": {},
   "outputs": [
    {
     "data": {
      "text/plain": [
       "True"
      ]
     },
     "execution_count": 15,
     "metadata": {},
     "output_type": "execute_result"
    }
   ],
   "source": [
    "# Creating an Empty DataFrame\n",
    "df1 = pd.DataFrame()\n",
    "\n",
    "#Checking if its empty or not\n",
    "df1.empty"
   ]
  },
  {
   "cell_type": "markdown",
   "metadata": {},
   "source": [
    "---\n",
    "## 7. index attribute\n",
    "* Returns start , stop and step values of the DataFrame."
   ]
  },
  {
   "cell_type": "code",
   "execution_count": 16,
   "metadata": {},
   "outputs": [
    {
     "data": {
      "text/plain": [
       "RangeIndex(start=0, stop=600, step=1)"
      ]
     },
     "execution_count": 16,
     "metadata": {},
     "output_type": "execute_result"
    }
   ],
   "source": [
    "df.index"
   ]
  },
  {
   "cell_type": "markdown",
   "metadata": {},
   "source": [
    "---\n",
    "## 8. values attribute\n",
    "* Returns all the values of the DataFrame but in array format."
   ]
  },
  {
   "cell_type": "code",
   "execution_count": 17,
   "metadata": {},
   "outputs": [
    {
     "data": {
      "text/plain": [
       "array([[166837, 'Veeru', '34in Ultrawide Monitor', 2],\n",
       "       [166838, 'Tarun', 'Samsung m10', 3],\n",
       "       [166839, 'Kedar', '20in Monitor', 1],\n",
       "       ...,\n",
       "       [167405, 'Venu', 'Flatscreen TV', 1],\n",
       "       [167406, 'Siddhu', 'Samsung m20', 2],\n",
       "       [167407, 'Tarun', 'LG Washing Machine', 1]],\n",
       "      shape=(600, 4), dtype=object)"
      ]
     },
     "execution_count": 17,
     "metadata": {},
     "output_type": "execute_result"
    }
   ],
   "source": [
    "df.values"
   ]
  },
  {
   "cell_type": "markdown",
   "metadata": {},
   "source": [
    "---\n",
    "## 9. T attribute\n",
    "* Transpose attribute returns (col, row) format."
   ]
  },
  {
   "cell_type": "code",
   "execution_count": 18,
   "metadata": {},
   "outputs": [
    {
     "name": "stdout",
     "output_type": "stream",
     "text": [
      "       Name  Age  Salary\n",
      "0    Anjali   20   10000\n",
      "1      Raju   16   20000\n",
      "2      Rani   24   30000\n",
      "3    Mantri   25   40000\n",
      "4    Police   26   50000\n",
      "5     Idiot   27   60000\n",
      "6  Touchpad   28   70000\n",
      "\n",
      "             0      1      2       3       4      5         6\n",
      "Name    Anjali   Raju   Rani  Mantri  Police  Idiot  Touchpad\n",
      "Age         20     16     24      25      26     27        28\n",
      "Salary   10000  20000  30000   40000   50000  60000     70000\n"
     ]
    }
   ],
   "source": [
    "details = [[\"Anjali\", 20, 10000], [\"Raju\", 16, 20000], [\"Rani\", 24, \n",
    "30000], [\"Mantri\", 25, 40000], [\"Police\", 26, 50000], [\"Idiot\", 27, \n",
    "60000], [\"Touchpad\", 28, 70000]]\n",
    "df = pd.DataFrame(details, columns = [\"Name\", \"Age\", \"Salary\"])\n",
    "print(df)\n",
    "print()\n",
    "print(df.T)"
   ]
  },
  {
   "cell_type": "markdown",
   "metadata": {},
   "source": [
    "---"
   ]
  }
 ],
 "metadata": {
  "kernelspec": {
   "display_name": "venv",
   "language": "python",
   "name": "python3"
  },
  "language_info": {
   "codemirror_mode": {
    "name": "ipython",
    "version": 3
   },
   "file_extension": ".py",
   "mimetype": "text/x-python",
   "name": "python",
   "nbconvert_exporter": "python",
   "pygments_lexer": "ipython3",
   "version": "3.12.7"
  }
 },
 "nbformat": 4,
 "nbformat_minor": 2
}
