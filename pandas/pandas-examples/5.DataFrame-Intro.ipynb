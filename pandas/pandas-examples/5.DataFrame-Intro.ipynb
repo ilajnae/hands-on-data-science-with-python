{
 "cells": [
  {
   "cell_type": "markdown",
   "metadata": {},
   "source": [
    "# Introduction to Pandas DataFrame\n",
    "---"
   ]
  },
  {
   "cell_type": "markdown",
   "metadata": {},
   "source": [
    "#### *In this notebook we have :*\n",
    "1. What is DataFrame?\n",
    "2. Various ways of Creating DataFrame objects:\n",
    "    * Empty DataFrame\n",
    "    * By Lists\n",
    "    * By nested Lists\n",
    "    * By dictionary\n",
    "    * By importing files\n",
    "3. Customizing the index values"
   ]
  },
  {
   "cell_type": "markdown",
   "metadata": {},
   "source": [
    "---\n",
    "## 1. What is DataFrame?\n",
    "* DataFrame is a predefined class in Pandas Library.\n",
    "* It is a 2-D data structure.\n",
    "* It is just like a table having rows and columns.\n",
    "---"
   ]
  },
  {
   "cell_type": "markdown",
   "metadata": {},
   "source": [
    "## 2. Various ways of creating a DataFrame:"
   ]
  },
  {
   "cell_type": "markdown",
   "metadata": {},
   "source": [
    "### i. Creating Empty DataFrame:"
   ]
  },
  {
   "cell_type": "code",
   "execution_count": 1,
   "metadata": {},
   "outputs": [
    {
     "name": "stdout",
     "output_type": "stream",
     "text": [
      "Empty DataFrame\n",
      "Columns: []\n",
      "Index: []\n",
      "<class 'pandas.core.frame.DataFrame'>\n"
     ]
    }
   ],
   "source": [
    "#create an empty DataFrame\n",
    "\n",
    "import pandas as pd\n",
    "\n",
    "df = pd.DataFrame() #empty DataFrame is created\n",
    "print(df)\n",
    "\n",
    "print(type(df)) #prints the type of df"
   ]
  },
  {
   "cell_type": "markdown",
   "metadata": {},
   "source": [
    "### ii. Creating DataFrame using Lists (single column):"
   ]
  },
  {
   "cell_type": "code",
   "execution_count": 2,
   "metadata": {},
   "outputs": [
    {
     "name": "stdout",
     "output_type": "stream",
     "text": [
      "   0\n",
      "0  1\n",
      "1  2\n",
      "2  3\n",
      "3  4\n",
      "4  5\n",
      "5  6\n",
      "6  7\n",
      "7  8\n",
      "8  9\n",
      "<class 'pandas.core.frame.DataFrame'>\n"
     ]
    }
   ],
   "source": [
    "#By using List\n",
    "\n",
    "a = [1,2,3,4,5,6,7,8,9]\n",
    "\n",
    "df = pd.DataFrame(a) #creating a DataFrame with List : a\n",
    "\n",
    "print(df)\n",
    "\n",
    "print(type(df))"
   ]
  },
  {
   "cell_type": "code",
   "execution_count": 3,
   "metadata": {},
   "outputs": [
    {
     "name": "stdout",
     "output_type": "stream",
     "text": [
      "  Student_Names\n",
      "0        Anjali\n",
      "1       Aradhya\n",
      "2        Anandh\n",
      "3        Bhavya\n",
      "4         Manas\n"
     ]
    }
   ],
   "source": [
    "str_val = [\"Anjali\", \"Aradhya\", \"Anandh\", \"Bhavya\", \"Manas\"]\n",
    "col_name = [\"Student_Names\"]\n",
    "\n",
    "df = pd.DataFrame(str_val, columns = col_name)\n",
    "print(df)"
   ]
  },
  {
   "cell_type": "markdown",
   "metadata": {},
   "source": [
    "### iii. Creating DataFrame using nested Lists (Multiple columns):"
   ]
  },
  {
   "cell_type": "code",
   "execution_count": 4,
   "metadata": {},
   "outputs": [
    {
     "name": "stdout",
     "output_type": "stream",
     "text": [
      "      Name  Age\n",
      "0   Anjali   21\n",
      "1    Arnav   21\n",
      "2     Ravi   13\n",
      "3    Priya   14\n",
      "4  Karthik   15\n",
      "5    Divya   16\n",
      "6   Suresh   17\n",
      "7  Lakshmi   18\n"
     ]
    }
   ],
   "source": [
    "#By using nested list for multiple columns\n",
    "stu_age = [    \n",
    "    [\"Anjali\", 21],\n",
    "    [\"Arnav\", 21],\n",
    "    [\"Ravi\", 13],\n",
    "    [\"Priya\", 14],\n",
    "    [\"Karthik\", 15],\n",
    "    [\"Divya\", 16],\n",
    "    [\"Suresh\", 17],\n",
    "    [\"Lakshmi\", 18]\n",
    "]\n",
    "\n",
    "col_name = [\"Name\", \"Age\"]\n",
    "\n",
    "df = pd.DataFrame(stu_age, columns=col_name)\n",
    "\n",
    "print(df)"
   ]
  },
  {
   "cell_type": "markdown",
   "metadata": {},
   "source": [
    "### iv. Creating DataFrame using Dictionary:"
   ]
  },
  {
   "cell_type": "code",
   "execution_count": 5,
   "metadata": {},
   "outputs": [
    {
     "name": "stdout",
     "output_type": "stream",
     "text": [
      "      Name  Age\n",
      "0   Anjali   20\n",
      "1    Arnav   21\n",
      "2     Ravi   23\n",
      "3    Priya   24\n",
      "4  Karthik   25\n",
      "5    Divya   26\n",
      "6   Suresh   27\n",
      "7  Lakshmi   28\n",
      "8   Satish   29\n"
     ]
    }
   ],
   "source": [
    "#By using dictionary\n",
    "info = {\n",
    "    \"Name\" : [\"Anjali\", \"Arnav\", \"Ravi\", \"Priya\", \"Karthik\", \"Divya\", \"Suresh\", \"Lakshmi\", \"Satish\"],\n",
    "    \"Age\" : [20, 21, 23, 24, 25, 26, 27, 28, 29]\n",
    "}\n",
    "df = pd.DataFrame(info)\n",
    "print(df)"
   ]
  },
  {
   "cell_type": "markdown",
   "metadata": {},
   "source": [
    "### v. Creating DataFrame from existing files:\n",
    "DataFrame obj can be created by using existing file types like csv, json etc.. which we will be discussing later."
   ]
  },
  {
   "cell_type": "markdown",
   "metadata": {},
   "source": [
    "---\n",
    "## 3. Customizing the Index values:"
   ]
  },
  {
   "cell_type": "code",
   "execution_count": 6,
   "metadata": {},
   "outputs": [
    {
     "name": "stdout",
     "output_type": "stream",
     "text": [
      "       Name  Age\n",
      "55   Anjali   20\n",
      "56    Arnav   21\n",
      "57     Ravi   23\n",
      "58    Priya   24\n",
      "59  Karthik   25\n",
      "60    Divya   26\n",
      "61   Suresh   27\n",
      "62  Lakshmi   28\n",
      "63   Satish   29\n"
     ]
    }
   ],
   "source": [
    "#simply add an keyword argument \"index\" in DataFrame constructor with customized values for index\n",
    "\n",
    "info = {\n",
    "    \"Name\" : [\"Anjali\", \"Arnav\", \"Ravi\", \"Priya\", \"Karthik\", \"Divya\", \"Suresh\", \"Lakshmi\", \"Satish\"],\n",
    "    \"Age\" : [20, 21, 23, 24, 25, 26, 27, 28, 29]\n",
    "}\n",
    "index = [55,56,57,58,59,60,61,62,63]\n",
    "\n",
    "df = pd.DataFrame(info, index = index)\n",
    "print(df)"
   ]
  },
  {
   "cell_type": "markdown",
   "metadata": {},
   "source": [
    "---"
   ]
  }
 ],
 "metadata": {
  "kernelspec": {
   "display_name": "venv",
   "language": "python",
   "name": "python3"
  },
  "language_info": {
   "codemirror_mode": {
    "name": "ipython",
    "version": 3
   },
   "file_extension": ".py",
   "mimetype": "text/x-python",
   "name": "python",
   "nbconvert_exporter": "python",
   "pygments_lexer": "ipython3",
   "version": "3.12.7"
  }
 },
 "nbformat": 4,
 "nbformat_minor": 2
}
